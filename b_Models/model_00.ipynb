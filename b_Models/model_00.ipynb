{
 "cells": [
  {
   "cell_type": "code",
   "execution_count": 1,
   "metadata": {},
   "outputs": [
    {
     "name": "stdout",
     "output_type": "stream",
     "text": [
      "Requirement already up-to-date: sklearn in c:\\users\\rpmcl\\anaconda3\\envs\\pythondata\\lib\\site-packages (0.0)\n",
      "Requirement already satisfied, skipping upgrade: scikit-learn in c:\\users\\rpmcl\\anaconda3\\envs\\pythondata\\lib\\site-packages (from sklearn) (0.24.1)\n",
      "Requirement already satisfied, skipping upgrade: scipy>=0.19.1 in c:\\users\\rpmcl\\anaconda3\\envs\\pythondata\\lib\\site-packages (from scikit-learn->sklearn) (1.5.0)\n",
      "Requirement already satisfied, skipping upgrade: numpy>=1.13.3 in c:\\users\\rpmcl\\anaconda3\\envs\\pythondata\\lib\\site-packages (from scikit-learn->sklearn) (1.18.5)\n",
      "Requirement already satisfied, skipping upgrade: threadpoolctl>=2.0.0 in c:\\users\\rpmcl\\anaconda3\\envs\\pythondata\\lib\\site-packages (from scikit-learn->sklearn) (2.1.0)\n",
      "Requirement already satisfied, skipping upgrade: joblib>=0.11 in c:\\users\\rpmcl\\anaconda3\\envs\\pythondata\\lib\\site-packages (from scikit-learn->sklearn) (1.0.1)\n"
     ]
    }
   ],
   "source": [
    "## Update sklearn to prevent version mismatches:\n",
    "!pip install sklearn --upgrade"
   ]
  },
  {
   "cell_type": "code",
   "execution_count": 2,
   "metadata": {},
   "outputs": [
    {
     "name": "stdout",
     "output_type": "stream",
     "text": [
      "Requirement already satisfied: joblib in c:\\users\\rpmcl\\anaconda3\\envs\\pythondata\\lib\\site-packages (1.0.1)\n"
     ]
    }
   ],
   "source": [
    "## Install joblib (to save model): \n",
    "## *Restart your kernel after installing \n",
    "!pip install joblib"
   ]
  },
  {
   "cell_type": "code",
   "execution_count": 3,
   "metadata": {},
   "outputs": [],
   "source": [
    "## Dependencies\n",
    "import numpy as np\n",
    "import pandas as pd"
   ]
  },
  {
   "cell_type": "markdown",
   "metadata": {},
   "source": [
    "## Read CSV & Perform Basic Data Cleaning"
   ]
  },
  {
   "cell_type": "code",
   "execution_count": 42,
   "metadata": {},
   "outputs": [
    {
     "data": {
      "text/html": [
       "<div>\n",
       "<style scoped>\n",
       "    .dataframe tbody tr th:only-of-type {\n",
       "        vertical-align: middle;\n",
       "    }\n",
       "\n",
       "    .dataframe tbody tr th {\n",
       "        vertical-align: top;\n",
       "    }\n",
       "\n",
       "    .dataframe thead th {\n",
       "        text-align: right;\n",
       "    }\n",
       "</style>\n",
       "<table border=\"1\" class=\"dataframe\">\n",
       "  <thead>\n",
       "    <tr style=\"text-align: right;\">\n",
       "      <th></th>\n",
       "      <th>koi_time0bk_err2</th>\n",
       "      <th>koi_impact</th>\n",
       "      <th>koi_impact_err1</th>\n",
       "      <th>koi_impact_err2</th>\n",
       "      <th>koi_duration</th>\n",
       "      <th>koi_duration_err1</th>\n",
       "      <th>koi_duration_err2</th>\n",
       "      <th>koi_depth</th>\n",
       "      <th>koi_depth_err1</th>\n",
       "      <th>koi_depth_err2</th>\n",
       "      <th>koi_prad</th>\n",
       "    </tr>\n",
       "  </thead>\n",
       "  <tbody>\n",
       "    <tr>\n",
       "      <th>0</th>\n",
       "      <td>-0.003520</td>\n",
       "      <td>0.586</td>\n",
       "      <td>0.059</td>\n",
       "      <td>-0.443</td>\n",
       "      <td>4.50700</td>\n",
       "      <td>0.11600</td>\n",
       "      <td>-0.11600</td>\n",
       "      <td>874.8</td>\n",
       "      <td>35.5</td>\n",
       "      <td>-35.5</td>\n",
       "      <td>2.83</td>\n",
       "    </tr>\n",
       "    <tr>\n",
       "      <th>1</th>\n",
       "      <td>-0.000581</td>\n",
       "      <td>0.969</td>\n",
       "      <td>5.126</td>\n",
       "      <td>-0.077</td>\n",
       "      <td>1.78220</td>\n",
       "      <td>0.03410</td>\n",
       "      <td>-0.03410</td>\n",
       "      <td>10829.0</td>\n",
       "      <td>171.0</td>\n",
       "      <td>-171.0</td>\n",
       "      <td>14.60</td>\n",
       "    </tr>\n",
       "    <tr>\n",
       "      <th>2</th>\n",
       "      <td>-0.000115</td>\n",
       "      <td>1.276</td>\n",
       "      <td>0.115</td>\n",
       "      <td>-0.092</td>\n",
       "      <td>2.40641</td>\n",
       "      <td>0.00537</td>\n",
       "      <td>-0.00537</td>\n",
       "      <td>8079.2</td>\n",
       "      <td>12.8</td>\n",
       "      <td>-12.8</td>\n",
       "      <td>33.46</td>\n",
       "    </tr>\n",
       "    <tr>\n",
       "      <th>3</th>\n",
       "      <td>-0.001130</td>\n",
       "      <td>0.701</td>\n",
       "      <td>0.235</td>\n",
       "      <td>-0.478</td>\n",
       "      <td>1.65450</td>\n",
       "      <td>0.04200</td>\n",
       "      <td>-0.04200</td>\n",
       "      <td>603.3</td>\n",
       "      <td>16.9</td>\n",
       "      <td>-16.9</td>\n",
       "      <td>2.75</td>\n",
       "    </tr>\n",
       "    <tr>\n",
       "      <th>4</th>\n",
       "      <td>-0.001900</td>\n",
       "      <td>0.762</td>\n",
       "      <td>0.139</td>\n",
       "      <td>-0.532</td>\n",
       "      <td>3.14020</td>\n",
       "      <td>0.06730</td>\n",
       "      <td>-0.06730</td>\n",
       "      <td>686.0</td>\n",
       "      <td>18.7</td>\n",
       "      <td>-18.7</td>\n",
       "      <td>2.77</td>\n",
       "    </tr>\n",
       "    <tr>\n",
       "      <th>5</th>\n",
       "      <td>-0.004610</td>\n",
       "      <td>0.755</td>\n",
       "      <td>0.212</td>\n",
       "      <td>-0.523</td>\n",
       "      <td>2.42900</td>\n",
       "      <td>0.16500</td>\n",
       "      <td>-0.16500</td>\n",
       "      <td>226.5</td>\n",
       "      <td>16.8</td>\n",
       "      <td>-16.8</td>\n",
       "      <td>1.59</td>\n",
       "    </tr>\n",
       "    <tr>\n",
       "      <th>6</th>\n",
       "      <td>-0.000517</td>\n",
       "      <td>0.052</td>\n",
       "      <td>0.262</td>\n",
       "      <td>-0.052</td>\n",
       "      <td>3.53470</td>\n",
       "      <td>0.02410</td>\n",
       "      <td>-0.02410</td>\n",
       "      <td>4914.3</td>\n",
       "      <td>33.3</td>\n",
       "      <td>-33.3</td>\n",
       "      <td>5.76</td>\n",
       "    </tr>\n",
       "    <tr>\n",
       "      <th>7</th>\n",
       "      <td>-0.000009</td>\n",
       "      <td>0.818</td>\n",
       "      <td>0.001</td>\n",
       "      <td>-0.001</td>\n",
       "      <td>1.74319</td>\n",
       "      <td>0.00107</td>\n",
       "      <td>-0.00107</td>\n",
       "      <td>14231.0</td>\n",
       "      <td>4.2</td>\n",
       "      <td>-4.2</td>\n",
       "      <td>13.04</td>\n",
       "    </tr>\n",
       "    <tr>\n",
       "      <th>8</th>\n",
       "      <td>-0.000016</td>\n",
       "      <td>0.224</td>\n",
       "      <td>0.159</td>\n",
       "      <td>-0.216</td>\n",
       "      <td>3.88864</td>\n",
       "      <td>0.00203</td>\n",
       "      <td>-0.00203</td>\n",
       "      <td>6674.7</td>\n",
       "      <td>1.7</td>\n",
       "      <td>-1.7</td>\n",
       "      <td>16.10</td>\n",
       "    </tr>\n",
       "    <tr>\n",
       "      <th>9</th>\n",
       "      <td>-0.000047</td>\n",
       "      <td>0.631</td>\n",
       "      <td>0.007</td>\n",
       "      <td>-0.007</td>\n",
       "      <td>3.19843</td>\n",
       "      <td>0.00653</td>\n",
       "      <td>-0.00653</td>\n",
       "      <td>9145.7</td>\n",
       "      <td>6.6</td>\n",
       "      <td>-6.6</td>\n",
       "      <td>14.59</td>\n",
       "    </tr>\n",
       "  </tbody>\n",
       "</table>\n",
       "</div>"
      ],
      "text/plain": [
       "   koi_time0bk_err2  koi_impact  koi_impact_err1  koi_impact_err2  \\\n",
       "0         -0.003520       0.586            0.059           -0.443   \n",
       "1         -0.000581       0.969            5.126           -0.077   \n",
       "2         -0.000115       1.276            0.115           -0.092   \n",
       "3         -0.001130       0.701            0.235           -0.478   \n",
       "4         -0.001900       0.762            0.139           -0.532   \n",
       "5         -0.004610       0.755            0.212           -0.523   \n",
       "6         -0.000517       0.052            0.262           -0.052   \n",
       "7         -0.000009       0.818            0.001           -0.001   \n",
       "8         -0.000016       0.224            0.159           -0.216   \n",
       "9         -0.000047       0.631            0.007           -0.007   \n",
       "\n",
       "   koi_duration  koi_duration_err1  koi_duration_err2  koi_depth  \\\n",
       "0       4.50700            0.11600           -0.11600      874.8   \n",
       "1       1.78220            0.03410           -0.03410    10829.0   \n",
       "2       2.40641            0.00537           -0.00537     8079.2   \n",
       "3       1.65450            0.04200           -0.04200      603.3   \n",
       "4       3.14020            0.06730           -0.06730      686.0   \n",
       "5       2.42900            0.16500           -0.16500      226.5   \n",
       "6       3.53470            0.02410           -0.02410     4914.3   \n",
       "7       1.74319            0.00107           -0.00107    14231.0   \n",
       "8       3.88864            0.00203           -0.00203     6674.7   \n",
       "9       3.19843            0.00653           -0.00653     9145.7   \n",
       "\n",
       "   koi_depth_err1  koi_depth_err2  koi_prad  \n",
       "0            35.5           -35.5      2.83  \n",
       "1           171.0          -171.0     14.60  \n",
       "2            12.8           -12.8     33.46  \n",
       "3            16.9           -16.9      2.75  \n",
       "4            18.7           -18.7      2.77  \n",
       "5            16.8           -16.8      1.59  \n",
       "6            33.3           -33.3      5.76  \n",
       "7             4.2            -4.2     13.04  \n",
       "8             1.7            -1.7     16.10  \n",
       "9             6.6            -6.6     14.59  "
      ]
     },
     "execution_count": 42,
     "metadata": {},
     "output_type": "execute_result"
    }
   ],
   "source": [
    "df = pd.read_csv(\"../Resources/Data/exoplanet_data.csv\")\n",
    "# Drop the null columns where all values are null\n",
    "df = df.dropna(axis='columns', how='all')\n",
    "# Drop the null rows\n",
    "df = df.dropna()\n",
    "df.iloc[:,10:21].head(10)"
   ]
  },
  {
   "cell_type": "code",
   "execution_count": 5,
   "metadata": {},
   "outputs": [
    {
     "data": {
      "text/plain": [
       "(6991, 41)"
      ]
     },
     "execution_count": 5,
     "metadata": {},
     "output_type": "execute_result"
    }
   ],
   "source": [
    "df.shape"
   ]
  },
  {
   "cell_type": "markdown",
   "metadata": {},
   "source": [
    "## Set Target & Select Features"
   ]
  },
  {
   "cell_type": "code",
   "execution_count": 6,
   "metadata": {},
   "outputs": [
    {
     "data": {
      "text/plain": [
       "FALSE POSITIVE    3504\n",
       "CONFIRMED         1800\n",
       "CANDIDATE         1687\n",
       "Name: koi_disposition, dtype: int64"
      ]
     },
     "execution_count": 6,
     "metadata": {},
     "output_type": "execute_result"
    }
   ],
   "source": [
    "target = df['koi_disposition']\n",
    "target.value_counts()"
   ]
  },
  {
   "cell_type": "code",
   "execution_count": 7,
   "metadata": {},
   "outputs": [
    {
     "data": {
      "text/plain": [
       "40"
      ]
     },
     "execution_count": 7,
     "metadata": {},
     "output_type": "execute_result"
    }
   ],
   "source": [
    "features = df.drop(columns=['koi_disposition']).columns\n",
    "len(features)"
   ]
  },
  {
   "cell_type": "code",
   "execution_count": 43,
   "metadata": {},
   "outputs": [
    {
     "data": {
      "text/plain": [
       "Index(['koi_fpflag_nt', 'koi_fpflag_ss', 'koi_fpflag_co', 'koi_fpflag_ec',\n",
       "       'koi_period', 'koi_period_err1', 'koi_period_err2', 'koi_time0bk',\n",
       "       'koi_time0bk_err1', 'koi_time0bk_err2', 'koi_impact', 'koi_impact_err1',\n",
       "       'koi_impact_err2', 'koi_duration', 'koi_duration_err1',\n",
       "       'koi_duration_err2', 'koi_depth', 'koi_depth_err1', 'koi_depth_err2',\n",
       "       'koi_prad', 'koi_prad_err1', 'koi_prad_err2', 'koi_teq', 'koi_insol',\n",
       "       'koi_insol_err1', 'koi_insol_err2', 'koi_model_snr', 'koi_tce_plnt_num',\n",
       "       'koi_steff', 'koi_steff_err1', 'koi_steff_err2', 'koi_slogg',\n",
       "       'koi_slogg_err1', 'koi_slogg_err2', 'koi_srad', 'koi_srad_err1',\n",
       "       'koi_srad_err2', 'ra', 'dec', 'koi_kepmag'],\n",
       "      dtype='object')"
      ]
     },
     "execution_count": 43,
     "metadata": {},
     "output_type": "execute_result"
    }
   ],
   "source": [
    "features"
   ]
  },
  {
   "cell_type": "code",
   "execution_count": 8,
   "metadata": {},
   "outputs": [],
   "source": [
    "# Select features (remove error columns)\n",
    "selected_features = df[\n",
    "    'koi_fpflag_nt', 'koi_fpflag_ss', 'koi_fpflag_co', 'koi_fpflag_ec',\n",
    "    'koi_period', 'koi_time0bk', 'koi_impact', 'koi_duration',\n",
    "    'koi_depth', 'koi_prad', 'koi_teq', 'koi_insol',\n",
    "    'koi_model_snr', 'koi_tce_plnt_num', 'koi_steff', 'koi_slogg',\n",
    "    'koi_srad', 'ra', 'dec', 'koi_kepmag'\n",
    "]"
   ]
  },
  {
   "cell_type": "markdown",
   "metadata": {},
   "source": [
    "## Train / Test Split"
   ]
  },
  {
   "cell_type": "code",
   "execution_count": 9,
   "metadata": {},
   "outputs": [],
   "source": [
    "from sklearn.model_selection import train_test_split\n",
    "X_train, X_test, y_train, y_test = train_test_split(selected_features, target, random_state=42)"
   ]
  },
  {
   "cell_type": "code",
   "execution_count": 10,
   "metadata": {},
   "outputs": [
    {
     "name": "stdout",
     "output_type": "stream",
     "text": [
      "0.75\n",
      "0.25\n"
     ]
    }
   ],
   "source": [
    "## Check split\n",
    "print(round(len(X_train)/len(selected_features), 2))\n",
    "print(round(len(X_test)/len(selected_features), 2))"
   ]
  },
  {
   "cell_type": "code",
   "execution_count": 11,
   "metadata": {},
   "outputs": [
    {
     "name": "stdout",
     "output_type": "stream",
     "text": [
      "0.75\n",
      "0.25\n"
     ]
    }
   ],
   "source": [
    "print(round(len(y_train)/len(target), 2))\n",
    "print(round(len(y_test)/len(target), 2))"
   ]
  },
  {
   "cell_type": "markdown",
   "metadata": {},
   "source": [
    "## Pre-processing"
   ]
  },
  {
   "cell_type": "code",
   "execution_count": 12,
   "metadata": {},
   "outputs": [
    {
     "name": "stderr",
     "output_type": "stream",
     "text": [
      "C:\\Users\\rpmcl\\anaconda3\\envs\\PythonData\\lib\\site-packages\\tensorflow\\python\\framework\\dtypes.py:516: FutureWarning: Passing (type, 1) or '1type' as a synonym of type is deprecated; in a future version of numpy, it will be understood as (type, (1,)) / '(1,)type'.\n",
      "  _np_qint8 = np.dtype([(\"qint8\", np.int8, 1)])\n",
      "C:\\Users\\rpmcl\\anaconda3\\envs\\PythonData\\lib\\site-packages\\tensorflow\\python\\framework\\dtypes.py:517: FutureWarning: Passing (type, 1) or '1type' as a synonym of type is deprecated; in a future version of numpy, it will be understood as (type, (1,)) / '(1,)type'.\n",
      "  _np_quint8 = np.dtype([(\"quint8\", np.uint8, 1)])\n",
      "C:\\Users\\rpmcl\\anaconda3\\envs\\PythonData\\lib\\site-packages\\tensorflow\\python\\framework\\dtypes.py:518: FutureWarning: Passing (type, 1) or '1type' as a synonym of type is deprecated; in a future version of numpy, it will be understood as (type, (1,)) / '(1,)type'.\n",
      "  _np_qint16 = np.dtype([(\"qint16\", np.int16, 1)])\n",
      "C:\\Users\\rpmcl\\anaconda3\\envs\\PythonData\\lib\\site-packages\\tensorflow\\python\\framework\\dtypes.py:519: FutureWarning: Passing (type, 1) or '1type' as a synonym of type is deprecated; in a future version of numpy, it will be understood as (type, (1,)) / '(1,)type'.\n",
      "  _np_quint16 = np.dtype([(\"quint16\", np.uint16, 1)])\n",
      "C:\\Users\\rpmcl\\anaconda3\\envs\\PythonData\\lib\\site-packages\\tensorflow\\python\\framework\\dtypes.py:520: FutureWarning: Passing (type, 1) or '1type' as a synonym of type is deprecated; in a future version of numpy, it will be understood as (type, (1,)) / '(1,)type'.\n",
      "  _np_qint32 = np.dtype([(\"qint32\", np.int32, 1)])\n",
      "C:\\Users\\rpmcl\\anaconda3\\envs\\PythonData\\lib\\site-packages\\tensorflow\\python\\framework\\dtypes.py:525: FutureWarning: Passing (type, 1) or '1type' as a synonym of type is deprecated; in a future version of numpy, it will be understood as (type, (1,)) / '(1,)type'.\n",
      "  np_resource = np.dtype([(\"resource\", np.ubyte, 1)])\n",
      "C:\\Users\\rpmcl\\anaconda3\\envs\\PythonData\\lib\\site-packages\\tensorboard\\compat\\tensorflow_stub\\dtypes.py:541: FutureWarning: Passing (type, 1) or '1type' as a synonym of type is deprecated; in a future version of numpy, it will be understood as (type, (1,)) / '(1,)type'.\n",
      "  _np_qint8 = np.dtype([(\"qint8\", np.int8, 1)])\n",
      "C:\\Users\\rpmcl\\anaconda3\\envs\\PythonData\\lib\\site-packages\\tensorboard\\compat\\tensorflow_stub\\dtypes.py:542: FutureWarning: Passing (type, 1) or '1type' as a synonym of type is deprecated; in a future version of numpy, it will be understood as (type, (1,)) / '(1,)type'.\n",
      "  _np_quint8 = np.dtype([(\"quint8\", np.uint8, 1)])\n",
      "C:\\Users\\rpmcl\\anaconda3\\envs\\PythonData\\lib\\site-packages\\tensorboard\\compat\\tensorflow_stub\\dtypes.py:543: FutureWarning: Passing (type, 1) or '1type' as a synonym of type is deprecated; in a future version of numpy, it will be understood as (type, (1,)) / '(1,)type'.\n",
      "  _np_qint16 = np.dtype([(\"qint16\", np.int16, 1)])\n",
      "C:\\Users\\rpmcl\\anaconda3\\envs\\PythonData\\lib\\site-packages\\tensorboard\\compat\\tensorflow_stub\\dtypes.py:544: FutureWarning: Passing (type, 1) or '1type' as a synonym of type is deprecated; in a future version of numpy, it will be understood as (type, (1,)) / '(1,)type'.\n",
      "  _np_quint16 = np.dtype([(\"quint16\", np.uint16, 1)])\n",
      "C:\\Users\\rpmcl\\anaconda3\\envs\\PythonData\\lib\\site-packages\\tensorboard\\compat\\tensorflow_stub\\dtypes.py:545: FutureWarning: Passing (type, 1) or '1type' as a synonym of type is deprecated; in a future version of numpy, it will be understood as (type, (1,)) / '(1,)type'.\n",
      "  _np_qint32 = np.dtype([(\"qint32\", np.int32, 1)])\n",
      "C:\\Users\\rpmcl\\anaconda3\\envs\\PythonData\\lib\\site-packages\\tensorboard\\compat\\tensorflow_stub\\dtypes.py:550: FutureWarning: Passing (type, 1) or '1type' as a synonym of type is deprecated; in a future version of numpy, it will be understood as (type, (1,)) / '(1,)type'.\n",
      "  np_resource = np.dtype([(\"resource\", np.ubyte, 1)])\n"
     ]
    }
   ],
   "source": [
    "## Encode Target\n",
    "from sklearn.preprocessing import LabelEncoder\n",
    "from tensorflow.keras.utils import to_categorical\n",
    "\n",
    "## Label-encode\n",
    "label_encoder = LabelEncoder()\n",
    "label_encoder.fit(target)\n",
    "y_train_encoded = label_encoder.transform(y_train)\n",
    "y_test_encoded = label_encoder.transform(y_test)\n",
    "\n",
    "## One-hot encoding\n",
    "y_train_categorical = to_categorical(y_train_encoded)\n",
    "y_test_categorical = to_categorical(y_test_encoded)"
   ]
  },
  {
   "cell_type": "code",
   "execution_count": 13,
   "metadata": {},
   "outputs": [
    {
     "data": {
      "text/plain": [
       "array(['CANDIDATE', 'CONFIRMED', 'FALSE POSITIVE'], dtype=object)"
      ]
     },
     "execution_count": 13,
     "metadata": {},
     "output_type": "execute_result"
    }
   ],
   "source": [
    "target_names = label_encoder.inverse_transform([0, 1, 2])\n",
    "target_names"
   ]
  },
  {
   "cell_type": "code",
   "execution_count": 14,
   "metadata": {},
   "outputs": [],
   "source": [
    "## Scale Features\n",
    "from sklearn.preprocessing import MinMaxScaler\n",
    "\n",
    "# Create MinMaxScaler model & Fit to training data\n",
    "X_scaler = MinMaxScaler().fit(X_train)\n",
    "\n",
    "# Transform training & testing data using X_scaler\n",
    "X_train_scaled = X_scaler.transform(X_train)\n",
    "X_test_scaled = X_scaler.transform(X_test)"
   ]
  },
  {
   "cell_type": "markdown",
   "metadata": {},
   "source": [
    "## Model Training"
   ]
  },
  {
   "cell_type": "code",
   "execution_count": null,
   "metadata": {},
   "outputs": [],
   "source": []
  },
  {
   "cell_type": "code",
   "execution_count": 15,
   "metadata": {},
   "outputs": [
    {
     "name": "stderr",
     "output_type": "stream",
     "text": [
      "C:\\Users\\rpmcl\\anaconda3\\envs\\PythonData\\lib\\site-packages\\sklearn\\linear_model\\_logistic.py:765: ConvergenceWarning: lbfgs failed to converge (status=1):\n",
      "STOP: TOTAL NO. of ITERATIONS REACHED LIMIT.\n",
      "\n",
      "Increase the number of iterations (max_iter) or scale the data as shown in:\n",
      "    https://scikit-learn.org/stable/modules/preprocessing.html\n",
      "Please also refer to the documentation for alternative solver options:\n",
      "    https://scikit-learn.org/stable/modules/linear_model.html#logistic-regression\n",
      "  extra_warning_msg=_LOGISTIC_SOLVER_CONVERGENCE_MSG)\n"
     ]
    },
    {
     "data": {
      "text/plain": [
       "LogisticRegression(max_iter=1000)"
      ]
     },
     "execution_count": 15,
     "metadata": {},
     "output_type": "execute_result"
    }
   ],
   "source": [
    "from sklearn.linear_model import LogisticRegression\n",
    "classifier = LogisticRegression(max_iter=1000)\n",
    "classifier.fit(X_train, y_train)"
   ]
  },
  {
   "cell_type": "code",
   "execution_count": 16,
   "metadata": {},
   "outputs": [
    {
     "name": "stdout",
     "output_type": "stream",
     "text": [
      "Training Data Score: 0.6654587068472249\n",
      "Testing Data Score: 0.6596109839816934\n"
     ]
    }
   ],
   "source": [
    "print(f\"Training Data Score: {classifier.score(X_train, y_train)}\")\n",
    "print(f\"Testing Data Score: {classifier.score(X_test, y_test)}\")"
   ]
  },
  {
   "cell_type": "code",
   "execution_count": 17,
   "metadata": {},
   "outputs": [
    {
     "name": "stdout",
     "output_type": "stream",
     "text": [
      "First 10 predictions: ['CANDIDATE', 'CANDIDATE', 'FALSE POSITIVE', 'FALSE POSITIVE', 'FALSE POSITIVE', 'CONFIRMED', 'CONFIRMED', 'FALSE POSITIVE', 'CANDIDATE', 'FALSE POSITIVE']\n",
      "First 10 real: ['FALSE POSITIVE', 'CANDIDATE', 'FALSE POSITIVE', 'FALSE POSITIVE', 'FALSE POSITIVE', 'CONFIRMED', 'CANDIDATE', 'CANDIDATE', 'CANDIDATE', 'FALSE POSITIVE']\n"
     ]
    }
   ],
   "source": [
    "predictions = classifier.predict(X_test)\n",
    "print(f\"First 10 predictions: {predictions[:10].tolist()}\")\n",
    "print(f\"First 10 real: {y_test[:10].tolist()}\")"
   ]
  },
  {
   "cell_type": "code",
   "execution_count": 18,
   "metadata": {},
   "outputs": [
    {
     "name": "stdout",
     "output_type": "stream",
     "text": [
      "                precision    recall  f1-score   support\n",
      "\n",
      "     CANDIDATE       0.44      0.23      0.31       411\n",
      "     CONFIRMED       0.64      0.68      0.66       484\n",
      "FALSE POSITIVE       0.72      0.85      0.78       853\n",
      "\n",
      "      accuracy                           0.66      1748\n",
      "     macro avg       0.60      0.59      0.58      1748\n",
      "  weighted avg       0.63      0.66      0.63      1748\n",
      "\n"
     ]
    }
   ],
   "source": [
    "## Classification Report\n",
    "from sklearn.metrics import classification_report\n",
    "# predictions = model.predict(X_test)\n",
    "print(classification_report(y_test, predictions, target_names=target_names))"
   ]
  },
  {
   "cell_type": "code",
   "execution_count": null,
   "metadata": {},
   "outputs": [],
   "source": []
  },
  {
   "cell_type": "code",
   "execution_count": null,
   "metadata": {},
   "outputs": [],
   "source": []
  },
  {
   "cell_type": "code",
   "execution_count": null,
   "metadata": {},
   "outputs": [],
   "source": []
  },
  {
   "cell_type": "code",
   "execution_count": 19,
   "metadata": {},
   "outputs": [
    {
     "data": {
      "text/plain": [
       "LogisticRegression(max_iter=1000)"
      ]
     },
     "execution_count": 19,
     "metadata": {},
     "output_type": "execute_result"
    }
   ],
   "source": [
    "from sklearn.linear_model import LogisticRegression\n",
    "model = LogisticRegression(max_iter=1000)\n",
    "model.fit(X_train_scaled, y_train_encoded)"
   ]
  },
  {
   "cell_type": "code",
   "execution_count": 20,
   "metadata": {},
   "outputs": [
    {
     "name": "stdout",
     "output_type": "stream",
     "text": [
      "Training Data Score: 0.8483692542437535\n",
      "Testing Data Score: 0.8443935926773455\n"
     ]
    }
   ],
   "source": [
    "print(f\"Training Data Score: {model.score(X_train_scaled, y_train_encoded)}\")\n",
    "print(f\"Testing Data Score: {model.score(X_test_scaled, y_test_encoded)}\")"
   ]
  },
  {
   "cell_type": "code",
   "execution_count": 21,
   "metadata": {},
   "outputs": [
    {
     "name": "stdout",
     "output_type": "stream",
     "text": [
      "First 10 predictions: ['FALSE POSITIVE', 'CANDIDATE', 'FALSE POSITIVE', 'FALSE POSITIVE', 'FALSE POSITIVE', 'CONFIRMED', 'CONFIRMED', 'CANDIDATE', 'CANDIDATE', 'FALSE POSITIVE']\n",
      "First 10 real: ['FALSE POSITIVE', 'CANDIDATE', 'FALSE POSITIVE', 'FALSE POSITIVE', 'FALSE POSITIVE', 'CONFIRMED', 'CANDIDATE', 'CANDIDATE', 'CANDIDATE', 'FALSE POSITIVE']\n"
     ]
    }
   ],
   "source": [
    "predictions = model.predict(X_test_scaled)\n",
    "print(f\"First 10 predictions: {label_encoder.inverse_transform(predictions[:10]).tolist()}\")\n",
    "print(f\"First 10 real: {label_encoder.inverse_transform(y_test_encoded[:10]).tolist()}\")"
   ]
  },
  {
   "cell_type": "code",
   "execution_count": 22,
   "metadata": {},
   "outputs": [
    {
     "name": "stdout",
     "output_type": "stream",
     "text": [
      "                precision    recall  f1-score   support\n",
      "\n",
      "     CANDIDATE       0.70      0.63      0.67       411\n",
      "     CONFIRMED       0.72      0.75      0.73       484\n",
      "FALSE POSITIVE       0.98      1.00      0.99       853\n",
      "\n",
      "      accuracy                           0.84      1748\n",
      "     macro avg       0.80      0.79      0.80      1748\n",
      "  weighted avg       0.84      0.84      0.84      1748\n",
      "\n"
     ]
    }
   ],
   "source": [
    "## Classification Report\n",
    "from sklearn.metrics import classification_report\n",
    "# predictions = model.predict(X_test_scaled)\n",
    "print(classification_report(y_test_encoded, predictions, target_names=target_names))"
   ]
  },
  {
   "cell_type": "code",
   "execution_count": null,
   "metadata": {},
   "outputs": [],
   "source": []
  },
  {
   "cell_type": "code",
   "execution_count": null,
   "metadata": {},
   "outputs": [],
   "source": []
  },
  {
   "cell_type": "code",
   "execution_count": null,
   "metadata": {},
   "outputs": [],
   "source": []
  },
  {
   "cell_type": "code",
   "execution_count": null,
   "metadata": {},
   "outputs": [],
   "source": [
    "model.feature_importances_"
   ]
  },
  {
   "cell_type": "code",
   "execution_count": null,
   "metadata": {},
   "outputs": [],
   "source": []
  },
  {
   "cell_type": "code",
   "execution_count": null,
   "metadata": {},
   "outputs": [],
   "source": []
  },
  {
   "cell_type": "markdown",
   "metadata": {},
   "source": [
    "### Add Residual Plot, Add Feature Plot"
   ]
  },
  {
   "cell_type": "code",
   "execution_count": 23,
   "metadata": {},
   "outputs": [
    {
     "data": {
      "image/png": "[encoded data removed]",
      "text/plain": [
       "<Figure size 432x288 with 1 Axes>"
      ]
     },
     "metadata": {
      "needs_background": "light"
     },
     "output_type": "display_data"
    }
   ],
   "source": [
    "# Plot Residual Values [Residual = Observed - Predicted]\n",
    "import matplotlib.pyplot as plt\n",
    "\n",
    "# predictions = model.predict(X_test_scaled)\n",
    "plt.scatter(model.predict(X_train_scaled), y_train_encoded - model.predict(X_train_scaled), c=\"blue\", label=\"Training Data\")\n",
    "plt.scatter(model.predict(X_test_scaled), y_test_encoded - model.predict(X_test_scaled), c=\"orange\", label=\"Testing Data\")\n",
    "plt.legend()\n",
    "plt.hlines(y=0, xmin=y_test_encoded.min(), xmax=y_test_encoded.max())\n",
    "plt.title(\"Residual Plot\")\n",
    "plt.show()"
   ]
  },
  {
   "cell_type": "code",
   "execution_count": null,
   "metadata": {},
   "outputs": [],
   "source": []
  },
  {
   "cell_type": "code",
   "execution_count": null,
   "metadata": {},
   "outputs": [],
   "source": []
  },
  {
   "cell_type": "code",
   "execution_count": 25,
   "metadata": {},
   "outputs": [
    {
     "data": {
      "text/plain": [
       "1748"
      ]
     },
     "execution_count": 25,
     "metadata": {},
     "output_type": "execute_result"
    }
   ],
   "source": [
    "y_score = model.predict_proba(X_test_scaled)[:,1]\n",
    "len(y_score)\n",
    "# len(y_test_encoded)"
   ]
  },
  {
   "cell_type": "code",
   "execution_count": 29,
   "metadata": {},
   "outputs": [
    {
     "ename": "TypeError",
     "evalue": "roc_curve() got an unexpected keyword argument 'average'",
     "output_type": "error",
     "traceback": [
      "\u001b[1;31m---------------------------------------------------------------------------\u001b[0m",
      "\u001b[1;31mTypeError\u001b[0m                                 Traceback (most recent call last)",
      "\u001b[1;32m<ipython-input-29-882881221618>\u001b[0m in \u001b[0;36m<module>\u001b[1;34m\u001b[0m\n\u001b[0;32m      1\u001b[0m \u001b[1;32mfrom\u001b[0m \u001b[0msklearn\u001b[0m\u001b[1;33m.\u001b[0m\u001b[0mmetrics\u001b[0m \u001b[1;32mimport\u001b[0m \u001b[0mroc_curve\u001b[0m\u001b[1;33m,\u001b[0m \u001b[0mroc_auc_score\u001b[0m\u001b[1;33m\u001b[0m\u001b[1;33m\u001b[0m\u001b[0m\n\u001b[0;32m      2\u001b[0m \u001b[1;33m\u001b[0m\u001b[0m\n\u001b[1;32m----> 3\u001b[1;33m \u001b[0mfalse_positive_rate\u001b[0m\u001b[1;33m,\u001b[0m \u001b[0mtrue_positive_rate\u001b[0m\u001b[1;33m,\u001b[0m \u001b[0mthreshold\u001b[0m \u001b[1;33m=\u001b[0m \u001b[0mroc_curve\u001b[0m\u001b[1;33m(\u001b[0m\u001b[0my_test_encoded\u001b[0m\u001b[1;33m,\u001b[0m \u001b[0my_score\u001b[0m\u001b[1;33m,\u001b[0m \u001b[0maverage\u001b[0m\u001b[1;33m=\u001b[0m\u001b[1;32mNone\u001b[0m\u001b[1;33m)\u001b[0m\u001b[1;33m\u001b[0m\u001b[1;33m\u001b[0m\u001b[0m\n\u001b[0m",
      "\u001b[1;32m~\\anaconda3\\envs\\PythonData\\lib\\site-packages\\sklearn\\utils\\validation.py\u001b[0m in \u001b[0;36minner_f\u001b[1;34m(*args, **kwargs)\u001b[0m\n\u001b[0;32m     61\u001b[0m             \u001b[0mextra_args\u001b[0m \u001b[1;33m=\u001b[0m \u001b[0mlen\u001b[0m\u001b[1;33m(\u001b[0m\u001b[0margs\u001b[0m\u001b[1;33m)\u001b[0m \u001b[1;33m-\u001b[0m \u001b[0mlen\u001b[0m\u001b[1;33m(\u001b[0m\u001b[0mall_args\u001b[0m\u001b[1;33m)\u001b[0m\u001b[1;33m\u001b[0m\u001b[1;33m\u001b[0m\u001b[0m\n\u001b[0;32m     62\u001b[0m             \u001b[1;32mif\u001b[0m \u001b[0mextra_args\u001b[0m \u001b[1;33m<=\u001b[0m \u001b[1;36m0\u001b[0m\u001b[1;33m:\u001b[0m\u001b[1;33m\u001b[0m\u001b[1;33m\u001b[0m\u001b[0m\n\u001b[1;32m---> 63\u001b[1;33m                 \u001b[1;32mreturn\u001b[0m \u001b[0mf\u001b[0m\u001b[1;33m(\u001b[0m\u001b[1;33m*\u001b[0m\u001b[0margs\u001b[0m\u001b[1;33m,\u001b[0m \u001b[1;33m**\u001b[0m\u001b[0mkwargs\u001b[0m\u001b[1;33m)\u001b[0m\u001b[1;33m\u001b[0m\u001b[1;33m\u001b[0m\u001b[0m\n\u001b[0m\u001b[0;32m     64\u001b[0m \u001b[1;33m\u001b[0m\u001b[0m\n\u001b[0;32m     65\u001b[0m             \u001b[1;31m# extra_args > 0\u001b[0m\u001b[1;33m\u001b[0m\u001b[1;33m\u001b[0m\u001b[1;33m\u001b[0m\u001b[0m\n",
      "\u001b[1;31mTypeError\u001b[0m: roc_curve() got an unexpected keyword argument 'average'"
     ]
    }
   ],
   "source": [
    "from sklearn.metrics import roc_curve, roc_auc_score\n",
    "\n",
    "false_positive_rate, true_positive_rate, threshold = roc_curve(y_test_encoded, y_score, average=None)"
   ]
  },
  {
   "cell_type": "code",
   "execution_count": 32,
   "metadata": {},
   "outputs": [
    {
     "ename": "AxisError",
     "evalue": "axis 1 is out of bounds for array of dimension 1",
     "output_type": "error",
     "traceback": [
      "\u001b[1;31m---------------------------------------------------------------------------\u001b[0m",
      "\u001b[1;31mAxisError\u001b[0m                                 Traceback (most recent call last)",
      "\u001b[1;32m<ipython-input-32-fdef914112df>\u001b[0m in \u001b[0;36m<module>\u001b[1;34m\u001b[0m\n\u001b[1;32m----> 1\u001b[1;33m \u001b[0mprint\u001b[0m\u001b[1;33m(\u001b[0m\u001b[1;34m'roc_auc_score for Logistic Regression: '\u001b[0m\u001b[1;33m,\u001b[0m \u001b[0mroc_auc_score\u001b[0m\u001b[1;33m(\u001b[0m\u001b[0my_test_encoded\u001b[0m\u001b[1;33m,\u001b[0m \u001b[0my_score\u001b[0m\u001b[1;33m,\u001b[0m \u001b[0mmulti_class\u001b[0m\u001b[1;33m=\u001b[0m\u001b[1;34m\"ovr\"\u001b[0m\u001b[1;33m)\u001b[0m\u001b[1;33m)\u001b[0m\u001b[1;33m\u001b[0m\u001b[1;33m\u001b[0m\u001b[0m\n\u001b[0m",
      "\u001b[1;32m~\\anaconda3\\envs\\PythonData\\lib\\site-packages\\sklearn\\utils\\validation.py\u001b[0m in \u001b[0;36minner_f\u001b[1;34m(*args, **kwargs)\u001b[0m\n\u001b[0;32m     61\u001b[0m             \u001b[0mextra_args\u001b[0m \u001b[1;33m=\u001b[0m \u001b[0mlen\u001b[0m\u001b[1;33m(\u001b[0m\u001b[0margs\u001b[0m\u001b[1;33m)\u001b[0m \u001b[1;33m-\u001b[0m \u001b[0mlen\u001b[0m\u001b[1;33m(\u001b[0m\u001b[0mall_args\u001b[0m\u001b[1;33m)\u001b[0m\u001b[1;33m\u001b[0m\u001b[1;33m\u001b[0m\u001b[0m\n\u001b[0;32m     62\u001b[0m             \u001b[1;32mif\u001b[0m \u001b[0mextra_args\u001b[0m \u001b[1;33m<=\u001b[0m \u001b[1;36m0\u001b[0m\u001b[1;33m:\u001b[0m\u001b[1;33m\u001b[0m\u001b[1;33m\u001b[0m\u001b[0m\n\u001b[1;32m---> 63\u001b[1;33m                 \u001b[1;32mreturn\u001b[0m \u001b[0mf\u001b[0m\u001b[1;33m(\u001b[0m\u001b[1;33m*\u001b[0m\u001b[0margs\u001b[0m\u001b[1;33m,\u001b[0m \u001b[1;33m**\u001b[0m\u001b[0mkwargs\u001b[0m\u001b[1;33m)\u001b[0m\u001b[1;33m\u001b[0m\u001b[1;33m\u001b[0m\u001b[0m\n\u001b[0m\u001b[0;32m     64\u001b[0m \u001b[1;33m\u001b[0m\u001b[0m\n\u001b[0;32m     65\u001b[0m             \u001b[1;31m# extra_args > 0\u001b[0m\u001b[1;33m\u001b[0m\u001b[1;33m\u001b[0m\u001b[1;33m\u001b[0m\u001b[0m\n",
      "\u001b[1;32m~\\anaconda3\\envs\\PythonData\\lib\\site-packages\\sklearn\\metrics\\_ranking.py\u001b[0m in \u001b[0;36mroc_auc_score\u001b[1;34m(y_true, y_score, average, sample_weight, max_fpr, multi_class, labels)\u001b[0m\n\u001b[0;32m    536\u001b[0m             \u001b[1;32mraise\u001b[0m \u001b[0mValueError\u001b[0m\u001b[1;33m(\u001b[0m\u001b[1;34m\"multi_class must be in ('ovo', 'ovr')\"\u001b[0m\u001b[1;33m)\u001b[0m\u001b[1;33m\u001b[0m\u001b[1;33m\u001b[0m\u001b[0m\n\u001b[0;32m    537\u001b[0m         return _multiclass_roc_auc_score(y_true, y_score, labels,\n\u001b[1;32m--> 538\u001b[1;33m                                          multi_class, average, sample_weight)\n\u001b[0m\u001b[0;32m    539\u001b[0m     \u001b[1;32melif\u001b[0m \u001b[0my_type\u001b[0m \u001b[1;33m==\u001b[0m \u001b[1;34m\"binary\"\u001b[0m\u001b[1;33m:\u001b[0m\u001b[1;33m\u001b[0m\u001b[1;33m\u001b[0m\u001b[0m\n\u001b[0;32m    540\u001b[0m         \u001b[0mlabels\u001b[0m \u001b[1;33m=\u001b[0m \u001b[0mnp\u001b[0m\u001b[1;33m.\u001b[0m\u001b[0munique\u001b[0m\u001b[1;33m(\u001b[0m\u001b[0my_true\u001b[0m\u001b[1;33m)\u001b[0m\u001b[1;33m\u001b[0m\u001b[1;33m\u001b[0m\u001b[0m\n",
      "\u001b[1;32m~\\anaconda3\\envs\\PythonData\\lib\\site-packages\\sklearn\\metrics\\_ranking.py\u001b[0m in \u001b[0;36m_multiclass_roc_auc_score\u001b[1;34m(y_true, y_score, labels, multi_class, average, sample_weight)\u001b[0m\n\u001b[0;32m    593\u001b[0m     \"\"\"\n\u001b[0;32m    594\u001b[0m     \u001b[1;31m# validation of the input y_score\u001b[0m\u001b[1;33m\u001b[0m\u001b[1;33m\u001b[0m\u001b[1;33m\u001b[0m\u001b[0m\n\u001b[1;32m--> 595\u001b[1;33m     \u001b[1;32mif\u001b[0m \u001b[1;32mnot\u001b[0m \u001b[0mnp\u001b[0m\u001b[1;33m.\u001b[0m\u001b[0mallclose\u001b[0m\u001b[1;33m(\u001b[0m\u001b[1;36m1\u001b[0m\u001b[1;33m,\u001b[0m \u001b[0my_score\u001b[0m\u001b[1;33m.\u001b[0m\u001b[0msum\u001b[0m\u001b[1;33m(\u001b[0m\u001b[0maxis\u001b[0m\u001b[1;33m=\u001b[0m\u001b[1;36m1\u001b[0m\u001b[1;33m)\u001b[0m\u001b[1;33m)\u001b[0m\u001b[1;33m:\u001b[0m\u001b[1;33m\u001b[0m\u001b[1;33m\u001b[0m\u001b[0m\n\u001b[0m\u001b[0;32m    596\u001b[0m         raise ValueError(\n\u001b[0;32m    597\u001b[0m             \u001b[1;34m\"Target scores need to be probabilities for multiclass \"\u001b[0m\u001b[1;33m\u001b[0m\u001b[1;33m\u001b[0m\u001b[0m\n",
      "\u001b[1;32m~\\anaconda3\\envs\\PythonData\\lib\\site-packages\\numpy\\core\\_methods.py\u001b[0m in \u001b[0;36m_sum\u001b[1;34m(a, axis, dtype, out, keepdims, initial, where)\u001b[0m\n\u001b[0;32m     36\u001b[0m def _sum(a, axis=None, dtype=None, out=None, keepdims=False,\n\u001b[0;32m     37\u001b[0m          initial=_NoValue, where=True):\n\u001b[1;32m---> 38\u001b[1;33m     \u001b[1;32mreturn\u001b[0m \u001b[0mumr_sum\u001b[0m\u001b[1;33m(\u001b[0m\u001b[0ma\u001b[0m\u001b[1;33m,\u001b[0m \u001b[0maxis\u001b[0m\u001b[1;33m,\u001b[0m \u001b[0mdtype\u001b[0m\u001b[1;33m,\u001b[0m \u001b[0mout\u001b[0m\u001b[1;33m,\u001b[0m \u001b[0mkeepdims\u001b[0m\u001b[1;33m,\u001b[0m \u001b[0minitial\u001b[0m\u001b[1;33m,\u001b[0m \u001b[0mwhere\u001b[0m\u001b[1;33m)\u001b[0m\u001b[1;33m\u001b[0m\u001b[1;33m\u001b[0m\u001b[0m\n\u001b[0m\u001b[0;32m     39\u001b[0m \u001b[1;33m\u001b[0m\u001b[0m\n\u001b[0;32m     40\u001b[0m def _prod(a, axis=None, dtype=None, out=None, keepdims=False,\n",
      "\u001b[1;31mAxisError\u001b[0m: axis 1 is out of bounds for array of dimension 1"
     ]
    }
   ],
   "source": [
    "print('roc_auc_score for Logistic Regression: ', roc_auc_score(y_test_encoded, y_score, multi_class=\"ovr\"))"
   ]
  },
  {
   "cell_type": "code",
   "execution_count": null,
   "metadata": {},
   "outputs": [],
   "source": [
    "# from sklearn.metrics import roc_curve, roc_auc_score"
   ]
  },
  {
   "cell_type": "code",
   "execution_count": 45,
   "metadata": {},
   "outputs": [],
   "source": [
    "from sklearn import metrics"
   ]
  },
  {
   "cell_type": "code",
   "execution_count": 47,
   "metadata": {},
   "outputs": [
    {
     "ename": "ValueError",
     "evalue": "multiclass format is not supported",
     "output_type": "error",
     "traceback": [
      "\u001b[1;31m---------------------------------------------------------------------------\u001b[0m",
      "\u001b[1;31mValueError\u001b[0m                                Traceback (most recent call last)",
      "\u001b[1;32m<ipython-input-47-0661d8d6c508>\u001b[0m in \u001b[0;36m<module>\u001b[1;34m\u001b[0m\n\u001b[0;32m      1\u001b[0m \u001b[0mprobs\u001b[0m \u001b[1;33m=\u001b[0m \u001b[0mmodel\u001b[0m\u001b[1;33m.\u001b[0m\u001b[0mpredict_proba\u001b[0m\u001b[1;33m(\u001b[0m\u001b[0mX_test_scaled\u001b[0m\u001b[1;33m)\u001b[0m\u001b[1;33m\u001b[0m\u001b[1;33m\u001b[0m\u001b[0m\n\u001b[0;32m      2\u001b[0m \u001b[0mpreds\u001b[0m \u001b[1;33m=\u001b[0m \u001b[0mprobs\u001b[0m\u001b[1;33m[\u001b[0m\u001b[1;33m:\u001b[0m\u001b[1;33m,\u001b[0m\u001b[1;36m1\u001b[0m\u001b[1;33m]\u001b[0m\u001b[1;33m\u001b[0m\u001b[1;33m\u001b[0m\u001b[0m\n\u001b[1;32m----> 3\u001b[1;33m \u001b[0mfpr\u001b[0m\u001b[1;33m,\u001b[0m \u001b[0mtpr\u001b[0m\u001b[1;33m,\u001b[0m \u001b[0mthreshold\u001b[0m \u001b[1;33m=\u001b[0m \u001b[0mmetrics\u001b[0m\u001b[1;33m.\u001b[0m\u001b[0mroc_curve\u001b[0m\u001b[1;33m(\u001b[0m\u001b[0my_test_encoded\u001b[0m\u001b[1;33m,\u001b[0m \u001b[0mpreds\u001b[0m\u001b[1;33m)\u001b[0m\u001b[1;33m\u001b[0m\u001b[1;33m\u001b[0m\u001b[0m\n\u001b[0m\u001b[0;32m      4\u001b[0m \u001b[0mroc_auc\u001b[0m \u001b[1;33m=\u001b[0m \u001b[0mmetrics\u001b[0m\u001b[1;33m.\u001b[0m\u001b[0mauc\u001b[0m\u001b[1;33m(\u001b[0m\u001b[0mfpr\u001b[0m\u001b[1;33m,\u001b[0m \u001b[0mtpr\u001b[0m\u001b[1;33m)\u001b[0m\u001b[1;33m\u001b[0m\u001b[1;33m\u001b[0m\u001b[0m\n\u001b[0;32m      5\u001b[0m \u001b[1;33m\u001b[0m\u001b[0m\n",
      "\u001b[1;32m~\\anaconda3\\envs\\PythonData\\lib\\site-packages\\sklearn\\utils\\validation.py\u001b[0m in \u001b[0;36minner_f\u001b[1;34m(*args, **kwargs)\u001b[0m\n\u001b[0;32m     61\u001b[0m             \u001b[0mextra_args\u001b[0m \u001b[1;33m=\u001b[0m \u001b[0mlen\u001b[0m\u001b[1;33m(\u001b[0m\u001b[0margs\u001b[0m\u001b[1;33m)\u001b[0m \u001b[1;33m-\u001b[0m \u001b[0mlen\u001b[0m\u001b[1;33m(\u001b[0m\u001b[0mall_args\u001b[0m\u001b[1;33m)\u001b[0m\u001b[1;33m\u001b[0m\u001b[1;33m\u001b[0m\u001b[0m\n\u001b[0;32m     62\u001b[0m             \u001b[1;32mif\u001b[0m \u001b[0mextra_args\u001b[0m \u001b[1;33m<=\u001b[0m \u001b[1;36m0\u001b[0m\u001b[1;33m:\u001b[0m\u001b[1;33m\u001b[0m\u001b[1;33m\u001b[0m\u001b[0m\n\u001b[1;32m---> 63\u001b[1;33m                 \u001b[1;32mreturn\u001b[0m \u001b[0mf\u001b[0m\u001b[1;33m(\u001b[0m\u001b[1;33m*\u001b[0m\u001b[0margs\u001b[0m\u001b[1;33m,\u001b[0m \u001b[1;33m**\u001b[0m\u001b[0mkwargs\u001b[0m\u001b[1;33m)\u001b[0m\u001b[1;33m\u001b[0m\u001b[1;33m\u001b[0m\u001b[0m\n\u001b[0m\u001b[0;32m     64\u001b[0m \u001b[1;33m\u001b[0m\u001b[0m\n\u001b[0;32m     65\u001b[0m             \u001b[1;31m# extra_args > 0\u001b[0m\u001b[1;33m\u001b[0m\u001b[1;33m\u001b[0m\u001b[1;33m\u001b[0m\u001b[0m\n",
      "\u001b[1;32m~\\anaconda3\\envs\\PythonData\\lib\\site-packages\\sklearn\\metrics\\_ranking.py\u001b[0m in \u001b[0;36mroc_curve\u001b[1;34m(y_true, y_score, pos_label, sample_weight, drop_intermediate)\u001b[0m\n\u001b[0;32m    912\u001b[0m     \"\"\"\n\u001b[0;32m    913\u001b[0m     fps, tps, thresholds = _binary_clf_curve(\n\u001b[1;32m--> 914\u001b[1;33m         y_true, y_score, pos_label=pos_label, sample_weight=sample_weight)\n\u001b[0m\u001b[0;32m    915\u001b[0m \u001b[1;33m\u001b[0m\u001b[0m\n\u001b[0;32m    916\u001b[0m     \u001b[1;31m# Attempt to drop thresholds corresponding to points in between and\u001b[0m\u001b[1;33m\u001b[0m\u001b[1;33m\u001b[0m\u001b[1;33m\u001b[0m\u001b[0m\n",
      "\u001b[1;32m~\\anaconda3\\envs\\PythonData\\lib\\site-packages\\sklearn\\metrics\\_ranking.py\u001b[0m in \u001b[0;36m_binary_clf_curve\u001b[1;34m(y_true, y_score, pos_label, sample_weight)\u001b[0m\n\u001b[0;32m    689\u001b[0m     if not (y_type == \"binary\" or\n\u001b[0;32m    690\u001b[0m             (y_type == \"multiclass\" and pos_label is not None)):\n\u001b[1;32m--> 691\u001b[1;33m         \u001b[1;32mraise\u001b[0m \u001b[0mValueError\u001b[0m\u001b[1;33m(\u001b[0m\u001b[1;34m\"{0} format is not supported\"\u001b[0m\u001b[1;33m.\u001b[0m\u001b[0mformat\u001b[0m\u001b[1;33m(\u001b[0m\u001b[0my_type\u001b[0m\u001b[1;33m)\u001b[0m\u001b[1;33m)\u001b[0m\u001b[1;33m\u001b[0m\u001b[1;33m\u001b[0m\u001b[0m\n\u001b[0m\u001b[0;32m    692\u001b[0m \u001b[1;33m\u001b[0m\u001b[0m\n\u001b[0;32m    693\u001b[0m     \u001b[0mcheck_consistent_length\u001b[0m\u001b[1;33m(\u001b[0m\u001b[0my_true\u001b[0m\u001b[1;33m,\u001b[0m \u001b[0my_score\u001b[0m\u001b[1;33m,\u001b[0m \u001b[0msample_weight\u001b[0m\u001b[1;33m)\u001b[0m\u001b[1;33m\u001b[0m\u001b[1;33m\u001b[0m\u001b[0m\n",
      "\u001b[1;31mValueError\u001b[0m: multiclass format is not supported"
     ]
    }
   ],
   "source": [
    "probs = model.predict_proba(X_test_scaled)\n",
    "preds = probs[:,1]\n",
    "fpr, tpr, threshold = metrics.roc_curve(y_test_encoded, preds)\n",
    "roc_auc = metrics.auc(fpr, tpr)\n",
    "\n",
    "plt.figure()\n",
    "plt.plot(fpr, tpr, label='GridSearchCV (area = %0.2f)' % roc_auc)\n",
    "plt.plot([0, 1], [0, 1],'r--')\n",
    "plt.xlim([0.0, 1.0])\n",
    "plt.ylim([0.0, 1.05])\n",
    "plt.xlabel('False Positive Rate')\n",
    "plt.ylabel('True Positive Rate')\n",
    "plt.title('Receiver operating characteristic')\n",
    "plt.legend(loc=\"lower right\")\n",
    "# plt.savefig('Log_ROC')\n",
    "plt.show()\n"
   ]
  },
  {
   "cell_type": "code",
   "execution_count": null,
   "metadata": {},
   "outputs": [],
   "source": []
  },
  {
   "cell_type": "code",
   "execution_count": null,
   "metadata": {},
   "outputs": [],
   "source": []
  },
  {
   "cell_type": "code",
   "execution_count": null,
   "metadata": {},
   "outputs": [],
   "source": []
  },
  {
   "cell_type": "code",
   "execution_count": null,
   "metadata": {},
   "outputs": [],
   "source": []
  },
  {
   "cell_type": "markdown",
   "metadata": {},
   "source": [
    "## Model Tuning (Hyperparameters)\n",
    "\n",
    "Use `GridSearchCV` to tune the model's parameters"
   ]
  },
  {
   "cell_type": "code",
   "execution_count": 37,
   "metadata": {},
   "outputs": [
    {
     "data": {
      "text/plain": [
       "dict_keys(['C', 'class_weight', 'dual', 'fit_intercept', 'intercept_scaling', 'l1_ratio', 'max_iter', 'multi_class', 'n_jobs', 'penalty', 'random_state', 'solver', 'tol', 'verbose', 'warm_start'])"
      ]
     },
     "execution_count": 37,
     "metadata": {},
     "output_type": "execute_result"
    }
   ],
   "source": [
    "## Get list of available parameters\n",
    "model.get_params().keys()"
   ]
  },
  {
   "cell_type": "code",
   "execution_count": 38,
   "metadata": {},
   "outputs": [],
   "source": [
    "# # Create the GridSearchCV model\n",
    "# from sklearn.model_selection import GridSearchCV\n",
    "\n",
    "# # param_grid = {'C': [1, 5, 10], \n",
    "# #               'gamma': [0.0001, 0.001, 0.01]}\n",
    "\n",
    "# param_grid = {'penalty': ['l1', 'l2'],\n",
    "#               'C': np.logspace(-4, 4, 20),\n",
    "#               'solver': ['liblinear']}\n",
    "\n",
    "\n",
    "# grid = GridSearchCV(model, param_grid, verbose=3)"
   ]
  },
  {
   "cell_type": "code",
   "execution_count": 39,
   "metadata": {},
   "outputs": [
    {
     "name": "stdout",
     "output_type": "stream",
     "text": [
      "Fitting 5 folds for each of 40 candidates, totalling 200 fits\n",
      "[CV] END .............C=0.0001, penalty=l1, solver=liblinear; total time=   0.0s\n",
      "[CV] END .............C=0.0001, penalty=l1, solver=liblinear; total time=   0.0s\n",
      "[CV] END .............C=0.0001, penalty=l1, solver=liblinear; total time=   0.0s\n",
      "[CV] END .............C=0.0001, penalty=l1, solver=liblinear; total time=   0.0s\n",
      "[CV] END .............C=0.0001, penalty=l1, solver=liblinear; total time=   0.0s\n",
      "[CV] END .............C=0.0001, penalty=l2, solver=liblinear; total time=   0.0s\n",
      "[CV] END .............C=0.0001, penalty=l2, solver=liblinear; total time=   0.0s\n",
      "[CV] END .............C=0.0001, penalty=l2, solver=liblinear; total time=   0.0s\n",
      "[CV] END .............C=0.0001, penalty=l2, solver=liblinear; total time=   0.0s\n",
      "[CV] END .............C=0.0001, penalty=l2, solver=liblinear; total time=   0.0s\n",
      "[CV] END C=0.00026366508987303583, penalty=l1, solver=liblinear; total time=   0.0s\n",
      "[CV] END C=0.00026366508987303583, penalty=l1, solver=liblinear; total time=   0.0s\n",
      "[CV] END C=0.00026366508987303583, penalty=l1, solver=liblinear; total time=   0.0s\n",
      "[CV] END C=0.00026366508987303583, penalty=l1, solver=liblinear; total time=   0.0s\n",
      "[CV] END C=0.00026366508987303583, penalty=l1, solver=liblinear; total time=   0.0s\n",
      "[CV] END C=0.00026366508987303583, penalty=l2, solver=liblinear; total time=   0.0s\n",
      "[CV] END C=0.00026366508987303583, penalty=l2, solver=liblinear; total time=   0.0s\n",
      "[CV] END C=0.00026366508987303583, penalty=l2, solver=liblinear; total time=   0.0s\n",
      "[CV] END C=0.00026366508987303583, penalty=l2, solver=liblinear; total time=   0.0s\n",
      "[CV] END C=0.00026366508987303583, penalty=l2, solver=liblinear; total time=   0.0s\n",
      "[CV] END C=0.0006951927961775605, penalty=l1, solver=liblinear; total time=   0.0s\n",
      "[CV] END C=0.0006951927961775605, penalty=l1, solver=liblinear; total time=   0.0s\n",
      "[CV] END C=0.0006951927961775605, penalty=l1, solver=liblinear; total time=   0.0s\n",
      "[CV] END C=0.0006951927961775605, penalty=l1, solver=liblinear; total time=   0.0s\n",
      "[CV] END C=0.0006951927961775605, penalty=l1, solver=liblinear; total time=   0.0s\n",
      "[CV] END C=0.0006951927961775605, penalty=l2, solver=liblinear; total time=   0.0s\n",
      "[CV] END C=0.0006951927961775605, penalty=l2, solver=liblinear; total time=   0.0s\n",
      "[CV] END C=0.0006951927961775605, penalty=l2, solver=liblinear; total time=   0.0s\n",
      "[CV] END C=0.0006951927961775605, penalty=l2, solver=liblinear; total time=   0.0s\n",
      "[CV] END C=0.0006951927961775605, penalty=l2, solver=liblinear; total time=   0.0s\n",
      "[CV] END C=0.0018329807108324356, penalty=l1, solver=liblinear; total time=   0.0s\n",
      "[CV] END C=0.0018329807108324356, penalty=l1, solver=liblinear; total time=   0.0s\n",
      "[CV] END C=0.0018329807108324356, penalty=l1, solver=liblinear; total time=   0.0s\n",
      "[CV] END C=0.0018329807108324356, penalty=l1, solver=liblinear; total time=   0.0s\n",
      "[CV] END C=0.0018329807108324356, penalty=l1, solver=liblinear; total time=   0.0s\n",
      "[CV] END C=0.0018329807108324356, penalty=l2, solver=liblinear; total time=   0.0s\n",
      "[CV] END C=0.0018329807108324356, penalty=l2, solver=liblinear; total time=   0.0s\n",
      "[CV] END C=0.0018329807108324356, penalty=l2, solver=liblinear; total time=   0.0s\n",
      "[CV] END C=0.0018329807108324356, penalty=l2, solver=liblinear; total time=   0.0s\n",
      "[CV] END C=0.0018329807108324356, penalty=l2, solver=liblinear; total time=   0.0s\n",
      "[CV] END C=0.004832930238571752, penalty=l1, solver=liblinear; total time=   0.0s\n",
      "[CV] END C=0.004832930238571752, penalty=l1, solver=liblinear; total time=   0.0s\n",
      "[CV] END C=0.004832930238571752, penalty=l1, solver=liblinear; total time=   0.0s\n",
      "[CV] END C=0.004832930238571752, penalty=l1, solver=liblinear; total time=   0.0s\n",
      "[CV] END C=0.004832930238571752, penalty=l1, solver=liblinear; total time=   0.0s\n",
      "[CV] END C=0.004832930238571752, penalty=l2, solver=liblinear; total time=   0.0s\n",
      "[CV] END C=0.004832930238571752, penalty=l2, solver=liblinear; total time=   0.0s\n",
      "[CV] END C=0.004832930238571752, penalty=l2, solver=liblinear; total time=   0.0s\n",
      "[CV] END C=0.004832930238571752, penalty=l2, solver=liblinear; total time=   0.0s\n",
      "[CV] END C=0.004832930238571752, penalty=l2, solver=liblinear; total time=   0.0s\n",
      "[CV] END C=0.012742749857031334, penalty=l1, solver=liblinear; total time=   0.0s\n",
      "[CV] END C=0.012742749857031334, penalty=l1, solver=liblinear; total time=   0.0s\n",
      "[CV] END C=0.012742749857031334, penalty=l1, solver=liblinear; total time=   0.0s\n",
      "[CV] END C=0.012742749857031334, penalty=l1, solver=liblinear; total time=   0.0s\n",
      "[CV] END C=0.012742749857031334, penalty=l1, solver=liblinear; total time=   0.0s\n",
      "[CV] END C=0.012742749857031334, penalty=l2, solver=liblinear; total time=   0.0s\n",
      "[CV] END C=0.012742749857031334, penalty=l2, solver=liblinear; total time=   0.0s\n",
      "[CV] END C=0.012742749857031334, penalty=l2, solver=liblinear; total time=   0.0s\n",
      "[CV] END C=0.012742749857031334, penalty=l2, solver=liblinear; total time=   0.0s\n",
      "[CV] END C=0.012742749857031334, penalty=l2, solver=liblinear; total time=   0.0s\n",
      "[CV] END C=0.03359818286283781, penalty=l1, solver=liblinear; total time=   0.0s\n",
      "[CV] END C=0.03359818286283781, penalty=l1, solver=liblinear; total time=   0.0s\n",
      "[CV] END C=0.03359818286283781, penalty=l1, solver=liblinear; total time=   0.0s\n",
      "[CV] END C=0.03359818286283781, penalty=l1, solver=liblinear; total time=   0.0s\n",
      "[CV] END C=0.03359818286283781, penalty=l1, solver=liblinear; total time=   0.0s\n",
      "[CV] END C=0.03359818286283781, penalty=l2, solver=liblinear; total time=   0.0s\n",
      "[CV] END C=0.03359818286283781, penalty=l2, solver=liblinear; total time=   0.0s\n",
      "[CV] END C=0.03359818286283781, penalty=l2, solver=liblinear; total time=   0.0s\n",
      "[CV] END C=0.03359818286283781, penalty=l2, solver=liblinear; total time=   0.0s\n",
      "[CV] END C=0.03359818286283781, penalty=l2, solver=liblinear; total time=   0.0s\n",
      "[CV] END C=0.08858667904100823, penalty=l1, solver=liblinear; total time=   0.0s\n",
      "[CV] END C=0.08858667904100823, penalty=l1, solver=liblinear; total time=   0.0s\n",
      "[CV] END C=0.08858667904100823, penalty=l1, solver=liblinear; total time=   0.0s\n",
      "[CV] END C=0.08858667904100823, penalty=l1, solver=liblinear; total time=   0.0s\n",
      "[CV] END C=0.08858667904100823, penalty=l1, solver=liblinear; total time=   0.0s\n",
      "[CV] END C=0.08858667904100823, penalty=l2, solver=liblinear; total time=   0.0s\n",
      "[CV] END C=0.08858667904100823, penalty=l2, solver=liblinear; total time=   0.0s\n",
      "[CV] END C=0.08858667904100823, penalty=l2, solver=liblinear; total time=   0.0s\n",
      "[CV] END C=0.08858667904100823, penalty=l2, solver=liblinear; total time=   0.0s\n",
      "[CV] END C=0.08858667904100823, penalty=l2, solver=liblinear; total time=   0.0s\n",
      "[CV] END C=0.23357214690901212, penalty=l1, solver=liblinear; total time=   0.0s\n",
      "[CV] END C=0.23357214690901212, penalty=l1, solver=liblinear; total time=   0.0s\n",
      "[CV] END C=0.23357214690901212, penalty=l1, solver=liblinear; total time=   0.0s\n",
      "[CV] END C=0.23357214690901212, penalty=l1, solver=liblinear; total time=   0.0s\n",
      "[CV] END C=0.23357214690901212, penalty=l1, solver=liblinear; total time=   0.0s\n",
      "[CV] END C=0.23357214690901212, penalty=l2, solver=liblinear; total time=   0.0s\n",
      "[CV] END C=0.23357214690901212, penalty=l2, solver=liblinear; total time=   0.0s\n",
      "[CV] END C=0.23357214690901212, penalty=l2, solver=liblinear; total time=   0.0s\n",
      "[CV] END C=0.23357214690901212, penalty=l2, solver=liblinear; total time=   0.0s\n",
      "[CV] END C=0.23357214690901212, penalty=l2, solver=liblinear; total time=   0.0s\n",
      "[CV] END ..C=0.615848211066026, penalty=l1, solver=liblinear; total time=   0.1s\n",
      "[CV] END ..C=0.615848211066026, penalty=l1, solver=liblinear; total time=   0.1s\n",
      "[CV] END ..C=0.615848211066026, penalty=l1, solver=liblinear; total time=   0.1s\n",
      "[CV] END ..C=0.615848211066026, penalty=l1, solver=liblinear; total time=   0.1s\n",
      "[CV] END ..C=0.615848211066026, penalty=l1, solver=liblinear; total time=   0.1s\n",
      "[CV] END ..C=0.615848211066026, penalty=l2, solver=liblinear; total time=   0.0s\n",
      "[CV] END ..C=0.615848211066026, penalty=l2, solver=liblinear; total time=   0.0s\n",
      "[CV] END ..C=0.615848211066026, penalty=l2, solver=liblinear; total time=   0.0s\n",
      "[CV] END ..C=0.615848211066026, penalty=l2, solver=liblinear; total time=   0.0s\n",
      "[CV] END ..C=0.615848211066026, penalty=l2, solver=liblinear; total time=   0.0s\n"
     ]
    },
    {
     "name": "stdout",
     "output_type": "stream",
     "text": [
      "[CV] END ..C=1.623776739188721, penalty=l1, solver=liblinear; total time=   0.5s\n",
      "[CV] END ..C=1.623776739188721, penalty=l1, solver=liblinear; total time=   0.4s\n",
      "[CV] END ..C=1.623776739188721, penalty=l1, solver=liblinear; total time=   0.4s\n",
      "[CV] END ..C=1.623776739188721, penalty=l1, solver=liblinear; total time=   0.4s\n",
      "[CV] END ..C=1.623776739188721, penalty=l1, solver=liblinear; total time=   0.7s\n",
      "[CV] END ..C=1.623776739188721, penalty=l2, solver=liblinear; total time=   0.0s\n",
      "[CV] END ..C=1.623776739188721, penalty=l2, solver=liblinear; total time=   0.0s\n",
      "[CV] END ..C=1.623776739188721, penalty=l2, solver=liblinear; total time=   0.0s\n",
      "[CV] END ..C=1.623776739188721, penalty=l2, solver=liblinear; total time=   0.0s\n",
      "[CV] END ..C=1.623776739188721, penalty=l2, solver=liblinear; total time=   0.0s\n",
      "[CV] END ..C=4.281332398719396, penalty=l1, solver=liblinear; total time=   2.2s\n",
      "[CV] END ..C=4.281332398719396, penalty=l1, solver=liblinear; total time=   1.4s\n",
      "[CV] END ..C=4.281332398719396, penalty=l1, solver=liblinear; total time=   1.0s\n",
      "[CV] END ..C=4.281332398719396, penalty=l1, solver=liblinear; total time=   0.9s\n",
      "[CV] END ..C=4.281332398719396, penalty=l1, solver=liblinear; total time=   1.8s\n",
      "[CV] END ..C=4.281332398719396, penalty=l2, solver=liblinear; total time=   0.0s\n",
      "[CV] END ..C=4.281332398719396, penalty=l2, solver=liblinear; total time=   0.0s\n",
      "[CV] END ..C=4.281332398719396, penalty=l2, solver=liblinear; total time=   0.0s\n",
      "[CV] END ..C=4.281332398719396, penalty=l2, solver=liblinear; total time=   0.0s\n",
      "[CV] END ..C=4.281332398719396, penalty=l2, solver=liblinear; total time=   0.0s\n",
      "[CV] END .C=11.288378916846883, penalty=l1, solver=liblinear; total time=   4.1s\n",
      "[CV] END .C=11.288378916846883, penalty=l1, solver=liblinear; total time=   3.0s\n",
      "[CV] END .C=11.288378916846883, penalty=l1, solver=liblinear; total time=   1.6s\n",
      "[CV] END .C=11.288378916846883, penalty=l1, solver=liblinear; total time=   2.4s\n",
      "[CV] END .C=11.288378916846883, penalty=l1, solver=liblinear; total time=   2.6s\n",
      "[CV] END .C=11.288378916846883, penalty=l2, solver=liblinear; total time=   0.0s\n",
      "[CV] END .C=11.288378916846883, penalty=l2, solver=liblinear; total time=   0.0s\n",
      "[CV] END .C=11.288378916846883, penalty=l2, solver=liblinear; total time=   0.0s\n",
      "[CV] END .C=11.288378916846883, penalty=l2, solver=liblinear; total time=   0.0s\n",
      "[CV] END .C=11.288378916846883, penalty=l2, solver=liblinear; total time=   0.0s\n",
      "[CV] END .C=29.763514416313132, penalty=l1, solver=liblinear; total time=   5.5s\n",
      "[CV] END .C=29.763514416313132, penalty=l1, solver=liblinear; total time=   5.2s\n",
      "[CV] END .C=29.763514416313132, penalty=l1, solver=liblinear; total time=   2.6s\n",
      "[CV] END .C=29.763514416313132, penalty=l1, solver=liblinear; total time=   5.1s\n",
      "[CV] END .C=29.763514416313132, penalty=l1, solver=liblinear; total time=   5.4s\n",
      "[CV] END .C=29.763514416313132, penalty=l2, solver=liblinear; total time=   0.0s\n",
      "[CV] END .C=29.763514416313132, penalty=l2, solver=liblinear; total time=   0.0s\n",
      "[CV] END .C=29.763514416313132, penalty=l2, solver=liblinear; total time=   0.0s\n",
      "[CV] END .C=29.763514416313132, penalty=l2, solver=liblinear; total time=   0.0s\n",
      "[CV] END .C=29.763514416313132, penalty=l2, solver=liblinear; total time=   0.0s\n",
      "[CV] END ..C=78.47599703514607, penalty=l1, solver=liblinear; total time=  11.1s\n",
      "[CV] END ..C=78.47599703514607, penalty=l1, solver=liblinear; total time=   6.1s\n",
      "[CV] END ..C=78.47599703514607, penalty=l1, solver=liblinear; total time=   3.5s\n",
      "[CV] END ..C=78.47599703514607, penalty=l1, solver=liblinear; total time=  13.3s\n",
      "[CV] END ..C=78.47599703514607, penalty=l1, solver=liblinear; total time=  17.4s\n",
      "[CV] END ..C=78.47599703514607, penalty=l2, solver=liblinear; total time=   0.1s\n",
      "[CV] END ..C=78.47599703514607, penalty=l2, solver=liblinear; total time=   0.1s\n",
      "[CV] END ..C=78.47599703514607, penalty=l2, solver=liblinear; total time=   0.1s\n",
      "[CV] END ..C=78.47599703514607, penalty=l2, solver=liblinear; total time=   0.1s\n",
      "[CV] END ..C=78.47599703514607, penalty=l2, solver=liblinear; total time=   0.0s\n",
      "[CV] END ...C=206.913808111479, penalty=l1, solver=liblinear; total time=  17.8s\n",
      "[CV] END ...C=206.913808111479, penalty=l1, solver=liblinear; total time=   9.8s\n",
      "[CV] END ...C=206.913808111479, penalty=l1, solver=liblinear; total time=   5.7s\n",
      "[CV] END ...C=206.913808111479, penalty=l1, solver=liblinear; total time=  15.5s\n",
      "[CV] END ...C=206.913808111479, penalty=l1, solver=liblinear; total time=  21.6s\n",
      "[CV] END ...C=206.913808111479, penalty=l2, solver=liblinear; total time=   0.1s\n",
      "[CV] END ...C=206.913808111479, penalty=l2, solver=liblinear; total time=   0.1s\n",
      "[CV] END ...C=206.913808111479, penalty=l2, solver=liblinear; total time=   0.1s\n",
      "[CV] END ...C=206.913808111479, penalty=l2, solver=liblinear; total time=   0.1s\n",
      "[CV] END ...C=206.913808111479, penalty=l2, solver=liblinear; total time=   0.1s\n",
      "[CV] END ..C=545.5594781168514, penalty=l1, solver=liblinear; total time=  18.2s\n",
      "[CV] END ..C=545.5594781168514, penalty=l1, solver=liblinear; total time=  11.2s\n",
      "[CV] END ..C=545.5594781168514, penalty=l1, solver=liblinear; total time=   3.4s\n",
      "[CV] END ..C=545.5594781168514, penalty=l1, solver=liblinear; total time=  14.4s\n",
      "[CV] END ..C=545.5594781168514, penalty=l1, solver=liblinear; total time=  18.4s\n",
      "[CV] END ..C=545.5594781168514, penalty=l2, solver=liblinear; total time=   0.1s\n",
      "[CV] END ..C=545.5594781168514, penalty=l2, solver=liblinear; total time=   0.1s\n",
      "[CV] END ..C=545.5594781168514, penalty=l2, solver=liblinear; total time=   0.2s\n",
      "[CV] END ..C=545.5594781168514, penalty=l2, solver=liblinear; total time=   0.2s\n",
      "[CV] END ..C=545.5594781168514, penalty=l2, solver=liblinear; total time=   0.2s\n",
      "[CV] END ...C=1438.44988828766, penalty=l1, solver=liblinear; total time=  18.6s\n",
      "[CV] END ...C=1438.44988828766, penalty=l1, solver=liblinear; total time=  11.3s\n",
      "[CV] END ...C=1438.44988828766, penalty=l1, solver=liblinear; total time=   3.9s\n",
      "[CV] END ...C=1438.44988828766, penalty=l1, solver=liblinear; total time=  14.2s\n",
      "[CV] END ...C=1438.44988828766, penalty=l1, solver=liblinear; total time=  15.1s\n",
      "[CV] END ...C=1438.44988828766, penalty=l2, solver=liblinear; total time=   0.2s\n",
      "[CV] END ...C=1438.44988828766, penalty=l2, solver=liblinear; total time=   0.2s\n",
      "[CV] END ...C=1438.44988828766, penalty=l2, solver=liblinear; total time=   0.2s\n",
      "[CV] END ...C=1438.44988828766, penalty=l2, solver=liblinear; total time=   0.2s\n",
      "[CV] END ...C=1438.44988828766, penalty=l2, solver=liblinear; total time=   0.2s\n"
     ]
    },
    {
     "name": "stderr",
     "output_type": "stream",
     "text": [
      "C:\\Users\\rpmcl\\anaconda3\\envs\\PythonData\\lib\\site-packages\\sklearn\\svm\\_base.py:986: ConvergenceWarning: Liblinear failed to converge, increase the number of iterations.\n",
      "  \"the number of iterations.\", ConvergenceWarning)\n"
     ]
    },
    {
     "name": "stdout",
     "output_type": "stream",
     "text": [
      "[CV] END ..C=3792.690190732246, penalty=l1, solver=liblinear; total time= 2.9min\n",
      "[CV] END ..C=3792.690190732246, penalty=l1, solver=liblinear; total time=  13.3s\n"
     ]
    },
    {
     "name": "stderr",
     "output_type": "stream",
     "text": [
      "C:\\Users\\rpmcl\\anaconda3\\envs\\PythonData\\lib\\site-packages\\sklearn\\svm\\_base.py:986: ConvergenceWarning: Liblinear failed to converge, increase the number of iterations.\n",
      "  \"the number of iterations.\", ConvergenceWarning)\n"
     ]
    },
    {
     "name": "stdout",
     "output_type": "stream",
     "text": [
      "[CV] END ..C=3792.690190732246, penalty=l1, solver=liblinear; total time= 2.9min\n",
      "[CV] END ..C=3792.690190732246, penalty=l1, solver=liblinear; total time=  14.6s\n"
     ]
    },
    {
     "name": "stderr",
     "output_type": "stream",
     "text": [
      "C:\\Users\\rpmcl\\anaconda3\\envs\\PythonData\\lib\\site-packages\\sklearn\\svm\\_base.py:986: ConvergenceWarning: Liblinear failed to converge, increase the number of iterations.\n",
      "  \"the number of iterations.\", ConvergenceWarning)\n"
     ]
    },
    {
     "name": "stdout",
     "output_type": "stream",
     "text": [
      "[CV] END ..C=3792.690190732246, penalty=l1, solver=liblinear; total time= 3.0min\n",
      "[CV] END ..C=3792.690190732246, penalty=l2, solver=liblinear; total time=   0.3s\n",
      "[CV] END ..C=3792.690190732246, penalty=l2, solver=liblinear; total time=   0.3s\n",
      "[CV] END ..C=3792.690190732246, penalty=l2, solver=liblinear; total time=   0.3s\n",
      "[CV] END ..C=3792.690190732246, penalty=l2, solver=liblinear; total time=   0.2s\n",
      "[CV] END ..C=3792.690190732246, penalty=l2, solver=liblinear; total time=   0.3s\n"
     ]
    },
    {
     "name": "stderr",
     "output_type": "stream",
     "text": [
      "C:\\Users\\rpmcl\\anaconda3\\envs\\PythonData\\lib\\site-packages\\sklearn\\svm\\_base.py:986: ConvergenceWarning: Liblinear failed to converge, increase the number of iterations.\n",
      "  \"the number of iterations.\", ConvergenceWarning)\n"
     ]
    },
    {
     "name": "stdout",
     "output_type": "stream",
     "text": [
      "[CV] END ............C=10000.0, penalty=l1, solver=liblinear; total time= 3.0min\n",
      "[CV] END ............C=10000.0, penalty=l1, solver=liblinear; total time=  12.6s\n"
     ]
    },
    {
     "name": "stderr",
     "output_type": "stream",
     "text": [
      "C:\\Users\\rpmcl\\anaconda3\\envs\\PythonData\\lib\\site-packages\\sklearn\\svm\\_base.py:986: ConvergenceWarning: Liblinear failed to converge, increase the number of iterations.\n",
      "  \"the number of iterations.\", ConvergenceWarning)\n"
     ]
    },
    {
     "name": "stdout",
     "output_type": "stream",
     "text": [
      "[CV] END ............C=10000.0, penalty=l1, solver=liblinear; total time= 2.9min\n"
     ]
    },
    {
     "name": "stderr",
     "output_type": "stream",
     "text": [
      "C:\\Users\\rpmcl\\anaconda3\\envs\\PythonData\\lib\\site-packages\\sklearn\\svm\\_base.py:986: ConvergenceWarning: Liblinear failed to converge, increase the number of iterations.\n",
      "  \"the number of iterations.\", ConvergenceWarning)\n"
     ]
    },
    {
     "name": "stdout",
     "output_type": "stream",
     "text": [
      "[CV] END ............C=10000.0, penalty=l1, solver=liblinear; total time= 2.9min\n"
     ]
    },
    {
     "name": "stderr",
     "output_type": "stream",
     "text": [
      "C:\\Users\\rpmcl\\anaconda3\\envs\\PythonData\\lib\\site-packages\\sklearn\\svm\\_base.py:986: ConvergenceWarning: Liblinear failed to converge, increase the number of iterations.\n",
      "  \"the number of iterations.\", ConvergenceWarning)\n"
     ]
    },
    {
     "name": "stdout",
     "output_type": "stream",
     "text": [
      "[CV] END ............C=10000.0, penalty=l1, solver=liblinear; total time= 2.9min\n",
      "[CV] END ............C=10000.0, penalty=l2, solver=liblinear; total time=   0.4s\n",
      "[CV] END ............C=10000.0, penalty=l2, solver=liblinear; total time=   0.3s\n",
      "[CV] END ............C=10000.0, penalty=l2, solver=liblinear; total time=   0.4s\n",
      "[CV] END ............C=10000.0, penalty=l2, solver=liblinear; total time=   0.3s\n",
      "[CV] END ............C=10000.0, penalty=l2, solver=liblinear; total time=   0.4s\n"
     ]
    },
    {
     "name": "stderr",
     "output_type": "stream",
     "text": [
      "C:\\Users\\rpmcl\\anaconda3\\envs\\PythonData\\lib\\site-packages\\sklearn\\svm\\_base.py:986: ConvergenceWarning: Liblinear failed to converge, increase the number of iterations.\n",
      "  \"the number of iterations.\", ConvergenceWarning)\n"
     ]
    },
    {
     "data": {
      "text/plain": [
       "GridSearchCV(estimator=LogisticRegression(max_iter=1000),\n",
       "             param_grid={'C': array([1.00000000e-04, 2.63665090e-04, 6.95192796e-04, 1.83298071e-03,\n",
       "       4.83293024e-03, 1.27427499e-02, 3.35981829e-02, 8.85866790e-02,\n",
       "       2.33572147e-01, 6.15848211e-01, 1.62377674e+00, 4.28133240e+00,\n",
       "       1.12883789e+01, 2.97635144e+01, 7.84759970e+01, 2.06913808e+02,\n",
       "       5.45559478e+02, 1.43844989e+03, 3.79269019e+03, 1.00000000e+04]),\n",
       "                         'penalty': ['l1', 'l2'], 'solver': ['liblinear']},\n",
       "             verbose=2)"
      ]
     },
     "execution_count": 39,
     "metadata": {},
     "output_type": "execute_result"
    }
   ],
   "source": [
    "# Train the model with GridSearch\n",
    "grid.fit(X_train_scaled, y_train_encoded)"
   ]
  },
  {
   "cell_type": "code",
   "execution_count": 40,
   "metadata": {},
   "outputs": [
    {
     "name": "stdout",
     "output_type": "stream",
     "text": [
      "{'C': 10000.0, 'penalty': 'l1', 'solver': 'liblinear'}\n",
      "0.8851774499887206\n"
     ]
    }
   ],
   "source": [
    "print(grid.best_params_)\n",
    "print(grid.best_score_)"
   ]
  },
  {
   "cell_type": "code",
   "execution_count": null,
   "metadata": {},
   "outputs": [],
   "source": []
  },
  {
   "cell_type": "code",
   "execution_count": null,
   "metadata": {},
   "outputs": [],
   "source": []
  },
  {
   "cell_type": "markdown",
   "metadata": {},
   "source": [
    "## Save Model"
   ]
  },
  {
   "cell_type": "code",
   "execution_count": null,
   "metadata": {},
   "outputs": [],
   "source": [
    "# save your model by updating \"your_name\" with your name\n",
    "# and \"your_model\" with your model variable\n",
    "# be sure to turn this in to BCS\n",
    "# if joblib fails to import, try running the command to install in terminal/git-bash\n",
    "import joblib\n",
    "filename = 'your_name.sav'\n",
    "# joblib.dump(your_model, filename)\n",
    "joblib.dump(model, filename)"
   ]
  },
  {
   "cell_type": "code",
   "execution_count": null,
   "metadata": {},
   "outputs": [],
   "source": []
  }
 ],
 "metadata": {
  "kernel_info": {
   "name": "dev"
  },
  "kernelspec": {
   "display_name": "PythonData",
   "language": "python",
   "name": "pythondata"
  },
  "language_info": {
   "codemirror_mode": {
    "name": "ipython",
    "version": 3
   },
   "file_extension": ".py",
   "mimetype": "text/x-python",
   "name": "python",
   "nbconvert_exporter": "python",
   "pygments_lexer": "ipython3",
   "version": "3.6.10"
  },
  "nteract": {
   "version": "0.12.3"
  }
 },
 "nbformat": 4,
 "nbformat_minor": 2
}
