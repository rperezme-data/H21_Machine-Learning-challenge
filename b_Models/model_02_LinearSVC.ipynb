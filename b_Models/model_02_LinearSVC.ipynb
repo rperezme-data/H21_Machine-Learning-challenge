{
 "cells": [
  {
   "cell_type": "code",
   "execution_count": 1,
   "metadata": {},
   "outputs": [
    {
     "name": "stdout",
     "output_type": "stream",
     "text": [
      "Requirement already satisfied: sklearn in c:\\users\\rpmcl\\anaconda3\\lib\\site-packages (0.0)\n",
      "Requirement already satisfied: scikit-learn in c:\\users\\rpmcl\\anaconda3\\lib\\site-packages (from sklearn) (0.24.1)\n",
      "Requirement already satisfied: scipy>=0.19.1 in c:\\users\\rpmcl\\anaconda3\\lib\\site-packages (from scikit-learn->sklearn) (1.6.2)\n",
      "Requirement already satisfied: joblib>=0.11 in c:\\users\\rpmcl\\anaconda3\\lib\\site-packages (from scikit-learn->sklearn) (1.0.1)\n",
      "Requirement already satisfied: threadpoolctl>=2.0.0 in c:\\users\\rpmcl\\anaconda3\\lib\\site-packages (from scikit-learn->sklearn) (2.1.0)\n",
      "Requirement already satisfied: numpy>=1.13.3 in c:\\users\\rpmcl\\anaconda3\\lib\\site-packages (from scikit-learn->sklearn) (1.20.2)\n"
     ]
    }
   ],
   "source": [
    "## Update sklearn to prevent version mismatches:\n",
    "!pip install sklearn --upgrade"
   ]
  },
  {
   "cell_type": "code",
   "execution_count": 2,
   "metadata": {},
   "outputs": [
    {
     "name": "stdout",
     "output_type": "stream",
     "text": [
      "Requirement already satisfied: joblib in c:\\users\\rpmcl\\anaconda3\\lib\\site-packages (1.0.1)\n"
     ]
    }
   ],
   "source": [
    "## Install joblib (to save model): \n",
    "## *Restart your kernel after installing \n",
    "!pip install joblib"
   ]
  },
  {
   "cell_type": "code",
   "execution_count": 3,
   "metadata": {},
   "outputs": [],
   "source": [
    "## Dependencies\n",
    "import numpy as np\n",
    "import pandas as pd"
   ]
  },
  {
   "cell_type": "markdown",
   "metadata": {},
   "source": [
    "## Read CSV & Perform Basic Data Cleaning"
   ]
  },
  {
   "cell_type": "code",
   "execution_count": 4,
   "metadata": {},
   "outputs": [
    {
     "name": "stdout",
     "output_type": "stream",
     "text": [
      "Shape: (6991, 41)\n"
     ]
    },
    {
     "data": {
      "text/html": [
       "<div>\n",
       "<style scoped>\n",
       "    .dataframe tbody tr th:only-of-type {\n",
       "        vertical-align: middle;\n",
       "    }\n",
       "\n",
       "    .dataframe tbody tr th {\n",
       "        vertical-align: top;\n",
       "    }\n",
       "\n",
       "    .dataframe thead th {\n",
       "        text-align: right;\n",
       "    }\n",
       "</style>\n",
       "<table border=\"1\" class=\"dataframe\">\n",
       "  <thead>\n",
       "    <tr style=\"text-align: right;\">\n",
       "      <th></th>\n",
       "      <th>koi_disposition</th>\n",
       "      <th>koi_fpflag_nt</th>\n",
       "      <th>koi_fpflag_ss</th>\n",
       "      <th>koi_fpflag_co</th>\n",
       "      <th>koi_fpflag_ec</th>\n",
       "      <th>koi_period</th>\n",
       "      <th>koi_period_err1</th>\n",
       "      <th>koi_period_err2</th>\n",
       "      <th>koi_time0bk</th>\n",
       "      <th>koi_time0bk_err1</th>\n",
       "      <th>...</th>\n",
       "      <th>koi_steff_err2</th>\n",
       "      <th>koi_slogg</th>\n",
       "      <th>koi_slogg_err1</th>\n",
       "      <th>koi_slogg_err2</th>\n",
       "      <th>koi_srad</th>\n",
       "      <th>koi_srad_err1</th>\n",
       "      <th>koi_srad_err2</th>\n",
       "      <th>ra</th>\n",
       "      <th>dec</th>\n",
       "      <th>koi_kepmag</th>\n",
       "    </tr>\n",
       "  </thead>\n",
       "  <tbody>\n",
       "    <tr>\n",
       "      <th>0</th>\n",
       "      <td>CONFIRMED</td>\n",
       "      <td>0</td>\n",
       "      <td>0</td>\n",
       "      <td>0</td>\n",
       "      <td>0</td>\n",
       "      <td>54.418383</td>\n",
       "      <td>2.479000e-04</td>\n",
       "      <td>-2.479000e-04</td>\n",
       "      <td>162.513840</td>\n",
       "      <td>0.003520</td>\n",
       "      <td>...</td>\n",
       "      <td>-81</td>\n",
       "      <td>4.467</td>\n",
       "      <td>0.064</td>\n",
       "      <td>-0.096</td>\n",
       "      <td>0.927</td>\n",
       "      <td>0.105</td>\n",
       "      <td>-0.061</td>\n",
       "      <td>291.93423</td>\n",
       "      <td>48.141651</td>\n",
       "      <td>15.347</td>\n",
       "    </tr>\n",
       "    <tr>\n",
       "      <th>1</th>\n",
       "      <td>FALSE POSITIVE</td>\n",
       "      <td>0</td>\n",
       "      <td>1</td>\n",
       "      <td>0</td>\n",
       "      <td>0</td>\n",
       "      <td>19.899140</td>\n",
       "      <td>1.490000e-05</td>\n",
       "      <td>-1.490000e-05</td>\n",
       "      <td>175.850252</td>\n",
       "      <td>0.000581</td>\n",
       "      <td>...</td>\n",
       "      <td>-176</td>\n",
       "      <td>4.544</td>\n",
       "      <td>0.044</td>\n",
       "      <td>-0.176</td>\n",
       "      <td>0.868</td>\n",
       "      <td>0.233</td>\n",
       "      <td>-0.078</td>\n",
       "      <td>297.00482</td>\n",
       "      <td>48.134129</td>\n",
       "      <td>15.436</td>\n",
       "    </tr>\n",
       "    <tr>\n",
       "      <th>2</th>\n",
       "      <td>FALSE POSITIVE</td>\n",
       "      <td>0</td>\n",
       "      <td>1</td>\n",
       "      <td>0</td>\n",
       "      <td>0</td>\n",
       "      <td>1.736952</td>\n",
       "      <td>2.630000e-07</td>\n",
       "      <td>-2.630000e-07</td>\n",
       "      <td>170.307565</td>\n",
       "      <td>0.000115</td>\n",
       "      <td>...</td>\n",
       "      <td>-174</td>\n",
       "      <td>4.564</td>\n",
       "      <td>0.053</td>\n",
       "      <td>-0.168</td>\n",
       "      <td>0.791</td>\n",
       "      <td>0.201</td>\n",
       "      <td>-0.067</td>\n",
       "      <td>285.53461</td>\n",
       "      <td>48.285210</td>\n",
       "      <td>15.597</td>\n",
       "    </tr>\n",
       "    <tr>\n",
       "      <th>3</th>\n",
       "      <td>CONFIRMED</td>\n",
       "      <td>0</td>\n",
       "      <td>0</td>\n",
       "      <td>0</td>\n",
       "      <td>0</td>\n",
       "      <td>2.525592</td>\n",
       "      <td>3.760000e-06</td>\n",
       "      <td>-3.760000e-06</td>\n",
       "      <td>171.595550</td>\n",
       "      <td>0.001130</td>\n",
       "      <td>...</td>\n",
       "      <td>-211</td>\n",
       "      <td>4.438</td>\n",
       "      <td>0.070</td>\n",
       "      <td>-0.210</td>\n",
       "      <td>1.046</td>\n",
       "      <td>0.334</td>\n",
       "      <td>-0.133</td>\n",
       "      <td>288.75488</td>\n",
       "      <td>48.226200</td>\n",
       "      <td>15.509</td>\n",
       "    </tr>\n",
       "    <tr>\n",
       "      <th>4</th>\n",
       "      <td>CONFIRMED</td>\n",
       "      <td>0</td>\n",
       "      <td>0</td>\n",
       "      <td>0</td>\n",
       "      <td>0</td>\n",
       "      <td>4.134435</td>\n",
       "      <td>1.050000e-05</td>\n",
       "      <td>-1.050000e-05</td>\n",
       "      <td>172.979370</td>\n",
       "      <td>0.001900</td>\n",
       "      <td>...</td>\n",
       "      <td>-232</td>\n",
       "      <td>4.486</td>\n",
       "      <td>0.054</td>\n",
       "      <td>-0.229</td>\n",
       "      <td>0.972</td>\n",
       "      <td>0.315</td>\n",
       "      <td>-0.105</td>\n",
       "      <td>296.28613</td>\n",
       "      <td>48.224670</td>\n",
       "      <td>15.714</td>\n",
       "    </tr>\n",
       "    <tr>\n",
       "      <th>5</th>\n",
       "      <td>CONFIRMED</td>\n",
       "      <td>0</td>\n",
       "      <td>0</td>\n",
       "      <td>0</td>\n",
       "      <td>0</td>\n",
       "      <td>2.566589</td>\n",
       "      <td>1.780000e-05</td>\n",
       "      <td>-1.780000e-05</td>\n",
       "      <td>179.554370</td>\n",
       "      <td>0.004610</td>\n",
       "      <td>...</td>\n",
       "      <td>-232</td>\n",
       "      <td>4.486</td>\n",
       "      <td>0.054</td>\n",
       "      <td>-0.229</td>\n",
       "      <td>0.972</td>\n",
       "      <td>0.315</td>\n",
       "      <td>-0.105</td>\n",
       "      <td>296.28613</td>\n",
       "      <td>48.224670</td>\n",
       "      <td>15.714</td>\n",
       "    </tr>\n",
       "    <tr>\n",
       "      <th>6</th>\n",
       "      <td>CONFIRMED</td>\n",
       "      <td>0</td>\n",
       "      <td>0</td>\n",
       "      <td>0</td>\n",
       "      <td>0</td>\n",
       "      <td>16.068647</td>\n",
       "      <td>1.090000e-05</td>\n",
       "      <td>-1.090000e-05</td>\n",
       "      <td>173.621937</td>\n",
       "      <td>0.000517</td>\n",
       "      <td>...</td>\n",
       "      <td>-83</td>\n",
       "      <td>4.485</td>\n",
       "      <td>0.083</td>\n",
       "      <td>-0.028</td>\n",
       "      <td>0.848</td>\n",
       "      <td>0.033</td>\n",
       "      <td>-0.072</td>\n",
       "      <td>286.99948</td>\n",
       "      <td>48.375790</td>\n",
       "      <td>15.841</td>\n",
       "    </tr>\n",
       "    <tr>\n",
       "      <th>7</th>\n",
       "      <td>CONFIRMED</td>\n",
       "      <td>0</td>\n",
       "      <td>0</td>\n",
       "      <td>0</td>\n",
       "      <td>0</td>\n",
       "      <td>2.470613</td>\n",
       "      <td>2.700000e-08</td>\n",
       "      <td>-2.700000e-08</td>\n",
       "      <td>122.763305</td>\n",
       "      <td>0.000009</td>\n",
       "      <td>...</td>\n",
       "      <td>-78</td>\n",
       "      <td>4.457</td>\n",
       "      <td>0.024</td>\n",
       "      <td>-0.024</td>\n",
       "      <td>0.964</td>\n",
       "      <td>0.038</td>\n",
       "      <td>-0.038</td>\n",
       "      <td>286.80847</td>\n",
       "      <td>49.316399</td>\n",
       "      <td>11.338</td>\n",
       "    </tr>\n",
       "    <tr>\n",
       "      <th>8</th>\n",
       "      <td>CONFIRMED</td>\n",
       "      <td>0</td>\n",
       "      <td>1</td>\n",
       "      <td>0</td>\n",
       "      <td>0</td>\n",
       "      <td>2.204735</td>\n",
       "      <td>4.300000e-08</td>\n",
       "      <td>-4.300000e-08</td>\n",
       "      <td>121.358542</td>\n",
       "      <td>0.000016</td>\n",
       "      <td>...</td>\n",
       "      <td>-89</td>\n",
       "      <td>4.019</td>\n",
       "      <td>0.033</td>\n",
       "      <td>-0.027</td>\n",
       "      <td>1.952</td>\n",
       "      <td>0.099</td>\n",
       "      <td>-0.110</td>\n",
       "      <td>292.24728</td>\n",
       "      <td>47.969521</td>\n",
       "      <td>10.463</td>\n",
       "    </tr>\n",
       "    <tr>\n",
       "      <th>9</th>\n",
       "      <td>CONFIRMED</td>\n",
       "      <td>0</td>\n",
       "      <td>0</td>\n",
       "      <td>0</td>\n",
       "      <td>0</td>\n",
       "      <td>3.522498</td>\n",
       "      <td>1.980000e-07</td>\n",
       "      <td>-1.980000e-07</td>\n",
       "      <td>121.119423</td>\n",
       "      <td>0.000047</td>\n",
       "      <td>...</td>\n",
       "      <td>-137</td>\n",
       "      <td>4.169</td>\n",
       "      <td>0.055</td>\n",
       "      <td>-0.045</td>\n",
       "      <td>1.451</td>\n",
       "      <td>0.110</td>\n",
       "      <td>-0.110</td>\n",
       "      <td>281.28812</td>\n",
       "      <td>42.451080</td>\n",
       "      <td>13.563</td>\n",
       "    </tr>\n",
       "  </tbody>\n",
       "</table>\n",
       "<p>10 rows × 41 columns</p>\n",
       "</div>"
      ],
      "text/plain": [
       "  koi_disposition  koi_fpflag_nt  koi_fpflag_ss  koi_fpflag_co  koi_fpflag_ec  \\\n",
       "0       CONFIRMED              0              0              0              0   \n",
       "1  FALSE POSITIVE              0              1              0              0   \n",
       "2  FALSE POSITIVE              0              1              0              0   \n",
       "3       CONFIRMED              0              0              0              0   \n",
       "4       CONFIRMED              0              0              0              0   \n",
       "5       CONFIRMED              0              0              0              0   \n",
       "6       CONFIRMED              0              0              0              0   \n",
       "7       CONFIRMED              0              0              0              0   \n",
       "8       CONFIRMED              0              1              0              0   \n",
       "9       CONFIRMED              0              0              0              0   \n",
       "\n",
       "   koi_period  koi_period_err1  koi_period_err2  koi_time0bk  \\\n",
       "0   54.418383     2.479000e-04    -2.479000e-04   162.513840   \n",
       "1   19.899140     1.490000e-05    -1.490000e-05   175.850252   \n",
       "2    1.736952     2.630000e-07    -2.630000e-07   170.307565   \n",
       "3    2.525592     3.760000e-06    -3.760000e-06   171.595550   \n",
       "4    4.134435     1.050000e-05    -1.050000e-05   172.979370   \n",
       "5    2.566589     1.780000e-05    -1.780000e-05   179.554370   \n",
       "6   16.068647     1.090000e-05    -1.090000e-05   173.621937   \n",
       "7    2.470613     2.700000e-08    -2.700000e-08   122.763305   \n",
       "8    2.204735     4.300000e-08    -4.300000e-08   121.358542   \n",
       "9    3.522498     1.980000e-07    -1.980000e-07   121.119423   \n",
       "\n",
       "   koi_time0bk_err1  ...  koi_steff_err2  koi_slogg  koi_slogg_err1  \\\n",
       "0          0.003520  ...             -81      4.467           0.064   \n",
       "1          0.000581  ...            -176      4.544           0.044   \n",
       "2          0.000115  ...            -174      4.564           0.053   \n",
       "3          0.001130  ...            -211      4.438           0.070   \n",
       "4          0.001900  ...            -232      4.486           0.054   \n",
       "5          0.004610  ...            -232      4.486           0.054   \n",
       "6          0.000517  ...             -83      4.485           0.083   \n",
       "7          0.000009  ...             -78      4.457           0.024   \n",
       "8          0.000016  ...             -89      4.019           0.033   \n",
       "9          0.000047  ...            -137      4.169           0.055   \n",
       "\n",
       "   koi_slogg_err2  koi_srad  koi_srad_err1  koi_srad_err2         ra  \\\n",
       "0          -0.096     0.927          0.105         -0.061  291.93423   \n",
       "1          -0.176     0.868          0.233         -0.078  297.00482   \n",
       "2          -0.168     0.791          0.201         -0.067  285.53461   \n",
       "3          -0.210     1.046          0.334         -0.133  288.75488   \n",
       "4          -0.229     0.972          0.315         -0.105  296.28613   \n",
       "5          -0.229     0.972          0.315         -0.105  296.28613   \n",
       "6          -0.028     0.848          0.033         -0.072  286.99948   \n",
       "7          -0.024     0.964          0.038         -0.038  286.80847   \n",
       "8          -0.027     1.952          0.099         -0.110  292.24728   \n",
       "9          -0.045     1.451          0.110         -0.110  281.28812   \n",
       "\n",
       "         dec  koi_kepmag  \n",
       "0  48.141651      15.347  \n",
       "1  48.134129      15.436  \n",
       "2  48.285210      15.597  \n",
       "3  48.226200      15.509  \n",
       "4  48.224670      15.714  \n",
       "5  48.224670      15.714  \n",
       "6  48.375790      15.841  \n",
       "7  49.316399      11.338  \n",
       "8  47.969521      10.463  \n",
       "9  42.451080      13.563  \n",
       "\n",
       "[10 rows x 41 columns]"
      ]
     },
     "execution_count": 4,
     "metadata": {},
     "output_type": "execute_result"
    }
   ],
   "source": [
    "df = pd.read_csv(\"../a_Resources/Data/exoplanet_data.csv\")\n",
    "# Drop the null columns where all values are null\n",
    "df = df.dropna(axis='columns', how='all')\n",
    "# Drop the null rows\n",
    "df = df.dropna()\n",
    "print(f\"Shape: {df.shape}\")\n",
    "df.head(10)"
   ]
  },
  {
   "cell_type": "code",
   "execution_count": 5,
   "metadata": {},
   "outputs": [],
   "source": [
    "## DataFrame Exploration\n",
    "# df.iloc[:,0:10].head(10)"
   ]
  },
  {
   "cell_type": "markdown",
   "metadata": {},
   "source": [
    "## Set Target & Features"
   ]
  },
  {
   "cell_type": "code",
   "execution_count": 6,
   "metadata": {},
   "outputs": [
    {
     "data": {
      "text/plain": [
       "FALSE POSITIVE    3504\n",
       "CONFIRMED         1800\n",
       "CANDIDATE         1687\n",
       "Name: koi_disposition, dtype: int64"
      ]
     },
     "execution_count": 6,
     "metadata": {},
     "output_type": "execute_result"
    }
   ],
   "source": [
    "target = df['koi_disposition']\n",
    "target.value_counts()"
   ]
  },
  {
   "cell_type": "code",
   "execution_count": 7,
   "metadata": {},
   "outputs": [
    {
     "name": "stdout",
     "output_type": "stream",
     "text": [
      "Features: 40\n"
     ]
    }
   ],
   "source": [
    "features = df.drop(columns=['koi_disposition'])\n",
    "print(f\"Features: {len(features.columns)}\")"
   ]
  },
  {
   "cell_type": "markdown",
   "metadata": {},
   "source": [
    "## Train / Test Split"
   ]
  },
  {
   "cell_type": "code",
   "execution_count": 8,
   "metadata": {},
   "outputs": [],
   "source": [
    "## Train / Test Split\n",
    "from sklearn.model_selection import train_test_split\n",
    "X_train, X_test, y_train, y_test = train_test_split(features, target, random_state=42)"
   ]
  },
  {
   "cell_type": "code",
   "execution_count": 9,
   "metadata": {},
   "outputs": [
    {
     "name": "stdout",
     "output_type": "stream",
     "text": [
      "Train: 75.0%\n",
      "Test: 25.0%\n"
     ]
    }
   ],
   "source": [
    "## Check split\n",
    "print(f\"Train: {round(len(y_train)/len(target)*100, 2)}%\")\n",
    "print(f\"Test: {round(len(y_test)/len(target)*100, 2)}%\")"
   ]
  },
  {
   "cell_type": "markdown",
   "metadata": {},
   "source": [
    "## Pre-processing"
   ]
  },
  {
   "cell_type": "code",
   "execution_count": 10,
   "metadata": {},
   "outputs": [],
   "source": [
    "## Encode Target\n",
    "from sklearn.preprocessing import LabelEncoder\n",
    "from tensorflow.keras.utils import to_categorical\n",
    "\n",
    "## Label encoding\n",
    "label_encoder = LabelEncoder()\n",
    "label_encoder.fit(target)\n",
    "y_train_encoded = label_encoder.transform(y_train)\n",
    "y_test_encoded = label_encoder.transform(y_test)"
   ]
  },
  {
   "cell_type": "code",
   "execution_count": 11,
   "metadata": {},
   "outputs": [
    {
     "data": {
      "text/plain": [
       "array(['CANDIDATE', 'CONFIRMED', 'FALSE POSITIVE'], dtype=object)"
      ]
     },
     "execution_count": 11,
     "metadata": {},
     "output_type": "execute_result"
    }
   ],
   "source": [
    "## Target names\n",
    "target_names = label_encoder.inverse_transform([0, 1, 2])\n",
    "target_names"
   ]
  },
  {
   "cell_type": "code",
   "execution_count": 12,
   "metadata": {},
   "outputs": [],
   "source": [
    "## Scale Features\n",
    "from sklearn.preprocessing import MinMaxScaler\n",
    "\n",
    "## Create MinMaxScaler model & Fit to training data\n",
    "X_scaler = MinMaxScaler().fit(X_train)\n",
    "\n",
    "## Transform training & testing data using X_scaler\n",
    "X_train_scaled = X_scaler.transform(X_train)\n",
    "X_test_scaled = X_scaler.transform(X_test)"
   ]
  },
  {
   "cell_type": "markdown",
   "metadata": {},
   "source": [
    "## Train Preliminar Model"
   ]
  },
  {
   "cell_type": "code",
   "execution_count": 13,
   "metadata": {},
   "outputs": [],
   "source": [
    "## Define model: Linear Support Vector Classification\n",
    "from sklearn.svm import SVC \n",
    "model = SVC(kernel='linear')"
   ]
  },
  {
   "cell_type": "code",
   "execution_count": 14,
   "metadata": {},
   "outputs": [
    {
     "data": {
      "text/plain": [
       "SVC(kernel='linear')"
      ]
     },
     "execution_count": 14,
     "metadata": {},
     "output_type": "execute_result"
    }
   ],
   "source": [
    "## Fit model\n",
    "model.fit(X_train_scaled, y_train_encoded)"
   ]
  },
  {
   "cell_type": "code",
   "execution_count": 15,
   "metadata": {},
   "outputs": [
    {
     "name": "stdout",
     "output_type": "stream",
     "text": [
      "Training Data Score: 84.5508%\n",
      "Testing Data Score: 84.1533%\n"
     ]
    }
   ],
   "source": [
    "print(f\"Training Data Score: {round(model.score(X_train_scaled, y_train_encoded)*100,4)}%\")\n",
    "print(f\"Testing Data Score: {round(model.score(X_test_scaled, y_test_encoded)*100,4)}%\")"
   ]
  },
  {
   "cell_type": "code",
   "execution_count": 16,
   "metadata": {},
   "outputs": [
    {
     "name": "stdout",
     "output_type": "stream",
     "text": [
      "                precision    recall  f1-score   support\n",
      "\n",
      "     CANDIDATE       0.70      0.62      0.66       411\n",
      "     CONFIRMED       0.71      0.76      0.73       484\n",
      "FALSE POSITIVE       0.98      1.00      0.99       853\n",
      "\n",
      "      accuracy                           0.84      1748\n",
      "     macro avg       0.80      0.79      0.79      1748\n",
      "  weighted avg       0.84      0.84      0.84      1748\n",
      "\n"
     ]
    }
   ],
   "source": [
    "## Classification Report\n",
    "from sklearn.metrics import classification_report\n",
    "predictions = model.predict(X_test_scaled)\n",
    "print(classification_report(y_test_encoded, predictions, target_names=target_names))"
   ]
  },
  {
   "cell_type": "code",
   "execution_count": 17,
   "metadata": {},
   "outputs": [],
   "source": [
    "# ## ROC AUC Score\n",
    "# from sklearn import metrics\n",
    "\n",
    "# y_score = model.predict_proba(X_test_scaled)\n",
    "# print(f\"ROC_AUC Score: {round(metrics.roc_auc_score(y_test_encoded, y_score, multi_class='ovr')*100, 4)}%\")"
   ]
  },
  {
   "cell_type": "markdown",
   "metadata": {},
   "source": [
    "## Feature Selection"
   ]
  },
  {
   "cell_type": "code",
   "execution_count": 18,
   "metadata": {},
   "outputs": [],
   "source": [
    "## Recursive Feature Elimination\n",
    "from sklearn.feature_selection import RFE\n",
    "\n",
    "selector = RFE(model, n_features_to_select=15, step=1)\n",
    "selector = selector.fit(X_train_scaled, y_train_encoded)"
   ]
  },
  {
   "cell_type": "code",
   "execution_count": 19,
   "metadata": {},
   "outputs": [
    {
     "data": {
      "text/plain": [
       "array([ 1,  1,  1,  1,  1,  7,  6,  5,  1,  1, 16,  1, 18,  1,  1,  1, 11,\n",
       "       21, 20, 25, 23, 26,  1, 22, 19, 24,  1,  9,  3,  1,  1,  2, 14,  4,\n",
       "       13,  8, 15, 17, 10, 12])"
      ]
     },
     "execution_count": 19,
     "metadata": {},
     "output_type": "execute_result"
    }
   ],
   "source": [
    "# selector.support_\n",
    "selector.ranking_"
   ]
  },
  {
   "cell_type": "code",
   "execution_count": 20,
   "metadata": {},
   "outputs": [
    {
     "name": "stdout",
     "output_type": "stream",
     "text": [
      "Shape: (6991, 15)\n"
     ]
    },
    {
     "data": {
      "text/plain": [
       "Index(['koi_fpflag_nt', 'koi_fpflag_ss', 'koi_fpflag_co', 'koi_fpflag_ec',\n",
       "       'koi_period', 'koi_time0bk_err1', 'koi_time0bk_err2', 'koi_impact_err1',\n",
       "       'koi_duration', 'koi_duration_err1', 'koi_duration_err2', 'koi_teq',\n",
       "       'koi_model_snr', 'koi_steff_err1', 'koi_steff_err2'],\n",
       "      dtype='object')"
      ]
     },
     "execution_count": 20,
     "metadata": {},
     "output_type": "execute_result"
    }
   ],
   "source": [
    "selected_features = features.loc[:,selector.support_]\n",
    "print(f\"Shape: {selected_features.shape}\")\n",
    "selected_features.columns"
   ]
  },
  {
   "cell_type": "code",
   "execution_count": 21,
   "metadata": {},
   "outputs": [
    {
     "name": "stdout",
     "output_type": "stream",
     "text": [
      "Selected Features: 15\n"
     ]
    }
   ],
   "source": [
    "print(f\"Selected Features: {len(selected_features.columns)}\")"
   ]
  },
  {
   "cell_type": "markdown",
   "metadata": {},
   "source": [
    "## Train Selected Features Model"
   ]
  },
  {
   "cell_type": "code",
   "execution_count": 22,
   "metadata": {},
   "outputs": [
    {
     "data": {
      "text/plain": [
       "SVC(kernel='linear')"
      ]
     },
     "execution_count": 22,
     "metadata": {},
     "output_type": "execute_result"
    }
   ],
   "source": [
    "## Train / Test Split\n",
    "from sklearn.model_selection import train_test_split\n",
    "X_train, X_test, y_train, y_test = train_test_split(selected_features, target, random_state=42)\n",
    "\n",
    "## Create MinMaxScaler model & Fit to training data\n",
    "X_scaler = MinMaxScaler().fit(X_train)\n",
    "\n",
    "## Transform training & testing data using X_scaler\n",
    "X_train_scaled = X_scaler.transform(X_train)\n",
    "X_test_scaled = X_scaler.transform(X_test)\n",
    "\n",
    "## Filtered model\n",
    "filtered_model = SVC(kernel='linear')\n",
    "\n",
    "## Fit model\n",
    "filtered_model.fit(X_train_scaled, y_train_encoded)"
   ]
  },
  {
   "cell_type": "code",
   "execution_count": 23,
   "metadata": {},
   "outputs": [
    {
     "name": "stdout",
     "output_type": "stream",
     "text": [
      "Training Data Score: 84.7416%\n",
      "Testing Data Score: 84.4966%\n"
     ]
    }
   ],
   "source": [
    "## Model Train / Test Score\n",
    "print(f\"Training Data Score: {round(filtered_model.score(X_train_scaled, y_train_encoded)*100,4)}%\")\n",
    "print(f\"Testing Data Score: {round(filtered_model.score(X_test_scaled, y_test_encoded)*100,4)}%\")"
   ]
  },
  {
   "cell_type": "code",
   "execution_count": 24,
   "metadata": {},
   "outputs": [
    {
     "name": "stdout",
     "output_type": "stream",
     "text": [
      "                precision    recall  f1-score   support\n",
      "\n",
      "     CANDIDATE       0.71      0.61      0.66       411\n",
      "     CONFIRMED       0.71      0.77      0.74       484\n",
      "FALSE POSITIVE       0.98      1.00      0.99       853\n",
      "\n",
      "      accuracy                           0.84      1748\n",
      "     macro avg       0.80      0.79      0.80      1748\n",
      "  weighted avg       0.84      0.84      0.84      1748\n",
      "\n"
     ]
    }
   ],
   "source": [
    "## Classification Report\n",
    "from sklearn.metrics import classification_report\n",
    "predictions = filtered_model.predict(X_test_scaled)\n",
    "print(classification_report(y_test_encoded, predictions, target_names=target_names))"
   ]
  },
  {
   "cell_type": "code",
   "execution_count": 25,
   "metadata": {},
   "outputs": [],
   "source": [
    "## ROC AUC Score\n",
    "# from sklearn import metrics\n",
    "\n",
    "# y_score = filtered_model.predict_proba(X_test_scaled)\n",
    "# print(f\"ROC_AUC Score: {round(metrics.roc_auc_score(y_test_encoded, y_score, multi_class='ovr')*100, 4)}%\")"
   ]
  },
  {
   "cell_type": "markdown",
   "metadata": {},
   "source": [
    "## Model Tuning (Hyperparameters)"
   ]
  },
  {
   "cell_type": "code",
   "execution_count": 26,
   "metadata": {},
   "outputs": [
    {
     "data": {
      "text/plain": [
       "dict_keys(['C', 'break_ties', 'cache_size', 'class_weight', 'coef0', 'decision_function_shape', 'degree', 'gamma', 'kernel', 'max_iter', 'probability', 'random_state', 'shrinking', 'tol', 'verbose'])"
      ]
     },
     "execution_count": 26,
     "metadata": {},
     "output_type": "execute_result"
    }
   ],
   "source": [
    "## Get list of available parameters\n",
    "filtered_model.get_params().keys()"
   ]
  },
  {
   "cell_type": "code",
   "execution_count": 27,
   "metadata": {},
   "outputs": [],
   "source": [
    "## Create GridSearchCV model\n",
    "from sklearn.model_selection import GridSearchCV\n",
    "\n",
    "param_grid = {'C': [1, 5, 10, 50],\n",
    "              'gamma': [0.0001, 0.0005, 0.001, 0.005]}\n",
    "\n",
    "grid = GridSearchCV(filtered_model, param_grid, verbose=3)"
   ]
  },
  {
   "cell_type": "code",
   "execution_count": 28,
   "metadata": {
    "scrolled": true
   },
   "outputs": [
    {
     "name": "stdout",
     "output_type": "stream",
     "text": [
      "Fitting 5 folds for each of 16 candidates, totalling 80 fits\n",
      "[CV 1/5] END ..............................C=1, gamma=0.0001; total time=   0.1s\n",
      "[CV 2/5] END ..............................C=1, gamma=0.0001; total time=   0.1s\n",
      "[CV 3/5] END ..............................C=1, gamma=0.0001; total time=   0.1s\n",
      "[CV 4/5] END ..............................C=1, gamma=0.0001; total time=   0.1s\n",
      "[CV 5/5] END ..............................C=1, gamma=0.0001; total time=   0.1s\n",
      "[CV 1/5] END ..............................C=1, gamma=0.0005; total time=   0.1s\n",
      "[CV 2/5] END ..............................C=1, gamma=0.0005; total time=   0.1s\n",
      "[CV 3/5] END ..............................C=1, gamma=0.0005; total time=   0.1s\n",
      "[CV 4/5] END ..............................C=1, gamma=0.0005; total time=   0.1s\n",
      "[CV 5/5] END ..............................C=1, gamma=0.0005; total time=   0.1s\n",
      "[CV 1/5] END ...............................C=1, gamma=0.001; total time=   0.1s\n",
      "[CV 2/5] END ...............................C=1, gamma=0.001; total time=   0.1s\n",
      "[CV 3/5] END ...............................C=1, gamma=0.001; total time=   0.1s\n",
      "[CV 4/5] END ...............................C=1, gamma=0.001; total time=   0.1s\n",
      "[CV 5/5] END ...............................C=1, gamma=0.001; total time=   0.1s\n",
      "[CV 1/5] END ...............................C=1, gamma=0.005; total time=   0.1s\n",
      "[CV 2/5] END ...............................C=1, gamma=0.005; total time=   0.1s\n",
      "[CV 3/5] END ...............................C=1, gamma=0.005; total time=   0.1s\n",
      "[CV 4/5] END ...............................C=1, gamma=0.005; total time=   0.1s\n",
      "[CV 5/5] END ...............................C=1, gamma=0.005; total time=   0.1s\n",
      "[CV 1/5] END ..............................C=5, gamma=0.0001; total time=   0.1s\n",
      "[CV 2/5] END ..............................C=5, gamma=0.0001; total time=   0.1s\n",
      "[CV 3/5] END ..............................C=5, gamma=0.0001; total time=   0.1s\n",
      "[CV 4/5] END ..............................C=5, gamma=0.0001; total time=   0.1s\n",
      "[CV 5/5] END ..............................C=5, gamma=0.0001; total time=   0.1s\n",
      "[CV 1/5] END ..............................C=5, gamma=0.0005; total time=   0.1s\n",
      "[CV 2/5] END ..............................C=5, gamma=0.0005; total time=   0.1s\n",
      "[CV 3/5] END ..............................C=5, gamma=0.0005; total time=   0.1s\n",
      "[CV 4/5] END ..............................C=5, gamma=0.0005; total time=   0.1s\n",
      "[CV 5/5] END ..............................C=5, gamma=0.0005; total time=   0.1s\n",
      "[CV 1/5] END ...............................C=5, gamma=0.001; total time=   0.1s\n",
      "[CV 2/5] END ...............................C=5, gamma=0.001; total time=   0.1s\n",
      "[CV 3/5] END ...............................C=5, gamma=0.001; total time=   0.1s\n",
      "[CV 4/5] END ...............................C=5, gamma=0.001; total time=   0.1s\n",
      "[CV 5/5] END ...............................C=5, gamma=0.001; total time=   0.1s\n",
      "[CV 1/5] END ...............................C=5, gamma=0.005; total time=   0.1s\n",
      "[CV 2/5] END ...............................C=5, gamma=0.005; total time=   0.1s\n",
      "[CV 3/5] END ...............................C=5, gamma=0.005; total time=   0.1s\n",
      "[CV 4/5] END ...............................C=5, gamma=0.005; total time=   0.1s\n",
      "[CV 5/5] END ...............................C=5, gamma=0.005; total time=   0.1s\n",
      "[CV 1/5] END .............................C=10, gamma=0.0001; total time=   0.1s\n",
      "[CV 2/5] END .............................C=10, gamma=0.0001; total time=   0.1s\n",
      "[CV 3/5] END .............................C=10, gamma=0.0001; total time=   0.1s\n",
      "[CV 4/5] END .............................C=10, gamma=0.0001; total time=   0.1s\n",
      "[CV 5/5] END .............................C=10, gamma=0.0001; total time=   0.1s\n",
      "[CV 1/5] END .............................C=10, gamma=0.0005; total time=   0.1s\n",
      "[CV 2/5] END .............................C=10, gamma=0.0005; total time=   0.1s\n",
      "[CV 3/5] END .............................C=10, gamma=0.0005; total time=   0.1s\n",
      "[CV 4/5] END .............................C=10, gamma=0.0005; total time=   0.1s\n",
      "[CV 5/5] END .............................C=10, gamma=0.0005; total time=   0.1s\n",
      "[CV 1/5] END ..............................C=10, gamma=0.001; total time=   0.1s\n",
      "[CV 2/5] END ..............................C=10, gamma=0.001; total time=   0.1s\n",
      "[CV 3/5] END ..............................C=10, gamma=0.001; total time=   0.1s\n",
      "[CV 4/5] END ..............................C=10, gamma=0.001; total time=   0.1s\n",
      "[CV 5/5] END ..............................C=10, gamma=0.001; total time=   0.1s\n",
      "[CV 1/5] END ..............................C=10, gamma=0.005; total time=   0.1s\n",
      "[CV 2/5] END ..............................C=10, gamma=0.005; total time=   0.1s\n",
      "[CV 3/5] END ..............................C=10, gamma=0.005; total time=   0.1s\n",
      "[CV 4/5] END ..............................C=10, gamma=0.005; total time=   0.1s\n",
      "[CV 5/5] END ..............................C=10, gamma=0.005; total time=   0.1s\n",
      "[CV 1/5] END .............................C=50, gamma=0.0001; total time=   0.1s\n",
      "[CV 2/5] END .............................C=50, gamma=0.0001; total time=   0.1s\n",
      "[CV 3/5] END .............................C=50, gamma=0.0001; total time=   0.1s\n",
      "[CV 4/5] END .............................C=50, gamma=0.0001; total time=   0.1s\n",
      "[CV 5/5] END .............................C=50, gamma=0.0001; total time=   0.1s\n",
      "[CV 1/5] END .............................C=50, gamma=0.0005; total time=   0.1s\n",
      "[CV 2/5] END .............................C=50, gamma=0.0005; total time=   0.1s\n",
      "[CV 3/5] END .............................C=50, gamma=0.0005; total time=   0.1s\n",
      "[CV 4/5] END .............................C=50, gamma=0.0005; total time=   0.1s\n",
      "[CV 5/5] END .............................C=50, gamma=0.0005; total time=   0.1s\n",
      "[CV 1/5] END ..............................C=50, gamma=0.001; total time=   0.1s\n",
      "[CV 2/5] END ..............................C=50, gamma=0.001; total time=   0.1s\n",
      "[CV 3/5] END ..............................C=50, gamma=0.001; total time=   0.1s\n",
      "[CV 4/5] END ..............................C=50, gamma=0.001; total time=   0.1s\n",
      "[CV 5/5] END ..............................C=50, gamma=0.001; total time=   0.1s\n",
      "[CV 1/5] END ..............................C=50, gamma=0.005; total time=   0.1s\n",
      "[CV 2/5] END ..............................C=50, gamma=0.005; total time=   0.1s\n",
      "[CV 3/5] END ..............................C=50, gamma=0.005; total time=   0.1s\n",
      "[CV 4/5] END ..............................C=50, gamma=0.005; total time=   0.1s\n",
      "[CV 5/5] END ..............................C=50, gamma=0.005; total time=   0.1s\n"
     ]
    },
    {
     "data": {
      "text/plain": [
       "GridSearchCV(estimator=SVC(kernel='linear'),\n",
       "             param_grid={'C': [1, 5, 10, 50],\n",
       "                         'gamma': [0.0001, 0.0005, 0.001, 0.005]},\n",
       "             verbose=4)"
      ]
     },
     "execution_count": 28,
     "metadata": {},
     "output_type": "execute_result"
    }
   ],
   "source": [
    "## Train model using GridSearch\n",
    "grid.fit(X_train_scaled, y_train_encoded)"
   ]
  },
  {
   "cell_type": "code",
   "execution_count": 29,
   "metadata": {},
   "outputs": [
    {
     "name": "stdout",
     "output_type": "stream",
     "text": [
      "Tuned Parameters: {'C': 50, 'gamma': 0.0001}\n",
      "Tuned Score: 88.346%\n"
     ]
    }
   ],
   "source": [
    "print(f\"Tuned Parameters: {grid.best_params_}\")\n",
    "print(f\"Tuned Score: {round((grid.best_score_)*100,4)}%\")"
   ]
  },
  {
   "cell_type": "markdown",
   "metadata": {},
   "source": [
    "## Train Tuned Model"
   ]
  },
  {
   "cell_type": "code",
   "execution_count": 30,
   "metadata": {},
   "outputs": [
    {
     "data": {
      "text/plain": [
       "SVC(C=50, gamma=0.0001, kernel='linear')"
      ]
     },
     "execution_count": 30,
     "metadata": {},
     "output_type": "execute_result"
    }
   ],
   "source": [
    "## Tuned model\n",
    "tuned_model = SVC(**grid.best_params_, kernel='linear')\n",
    "\n",
    "## Fit model\n",
    "tuned_model.fit(X_train_scaled, y_train_encoded)"
   ]
  },
  {
   "cell_type": "code",
   "execution_count": 31,
   "metadata": {},
   "outputs": [
    {
     "name": "stdout",
     "output_type": "stream",
     "text": [
      "Training Data Score: 88.3082%\n",
      "Testing Data Score: 87.643%\n"
     ]
    }
   ],
   "source": [
    "## Model Train / Test Score\n",
    "print(f\"Training Data Score: {round(tuned_model.score(X_train_scaled, y_train_encoded)*100,4)}%\")\n",
    "print(f\"Testing Data Score: {round(tuned_model.score(X_test_scaled, y_test_encoded)*100,4)}%\")"
   ]
  },
  {
   "cell_type": "code",
   "execution_count": 32,
   "metadata": {},
   "outputs": [
    {
     "name": "stdout",
     "output_type": "stream",
     "text": [
      "                precision    recall  f1-score   support\n",
      "\n",
      "     CANDIDATE       0.81      0.65      0.72       411\n",
      "     CONFIRMED       0.75      0.85      0.80       484\n",
      "FALSE POSITIVE       0.98      1.00      0.99       853\n",
      "\n",
      "      accuracy                           0.88      1748\n",
      "     macro avg       0.85      0.83      0.84      1748\n",
      "  weighted avg       0.88      0.88      0.87      1748\n",
      "\n"
     ]
    }
   ],
   "source": [
    "## Classification Report\n",
    "from sklearn.metrics import classification_report\n",
    "\n",
    "predictions = tuned_model.predict(X_test_scaled)\n",
    "print(classification_report(y_test_encoded, predictions, target_names=target_names))"
   ]
  },
  {
   "cell_type": "code",
   "execution_count": 33,
   "metadata": {},
   "outputs": [],
   "source": [
    "## ROC AUC Score\n",
    "# from sklearn import metrics\n",
    "\n",
    "# y_score = tuned_model.predict_proba(X_test_scaled)\n",
    "# print(f\"ROC_AUC Score: {round(metrics.roc_auc_score(y_test_encoded, y_score, multi_class='ovr')*100, 4)}%\")"
   ]
  },
  {
   "cell_type": "markdown",
   "metadata": {},
   "source": [
    "## Save Tuned Model"
   ]
  },
  {
   "cell_type": "code",
   "execution_count": 34,
   "metadata": {},
   "outputs": [
    {
     "data": {
      "text/plain": [
       "['linear_svc.sav']"
      ]
     },
     "execution_count": 34,
     "metadata": {},
     "output_type": "execute_result"
    }
   ],
   "source": [
    "import joblib\n",
    "filename = 'linear_svc.sav'\n",
    "joblib.dump(tuned_model, filename)"
   ]
  },
  {
   "cell_type": "code",
   "execution_count": null,
   "metadata": {},
   "outputs": [],
   "source": []
  }
 ],
 "metadata": {
  "kernel_info": {
   "name": "dev"
  },
  "kernelspec": {
   "display_name": "Python 3",
   "language": "python",
   "name": "python3"
  },
  "language_info": {
   "codemirror_mode": {
    "name": "ipython",
    "version": 3
   },
   "file_extension": ".py",
   "mimetype": "text/x-python",
   "name": "python",
   "nbconvert_exporter": "python",
   "pygments_lexer": "ipython3",
   "version": "3.8.8"
  },
  "nteract": {
   "version": "0.12.3"
  }
 },
 "nbformat": 4,
 "nbformat_minor": 2
}
